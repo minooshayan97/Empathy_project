{
  "nbformat": 4,
  "nbformat_minor": 0,
  "metadata": {
    "colab": {
      "provenance": [],
      "gpuType": "T4",
      "authorship_tag": "ABX9TyNQnBQ4U3YyeztGeqrOjmRD",
      "include_colab_link": true
    },
    "kernelspec": {
      "name": "python3",
      "display_name": "Python 3"
    },
    "language_info": {
      "name": "python"
    },
    "accelerator": "GPU",
    "widgets": {
      "application/vnd.jupyter.widget-state+json": {
        "5a311123f40f4257a4e474dc0a2eccdc": {
          "model_module": "@jupyter-widgets/controls",
          "model_name": "HBoxModel",
          "model_module_version": "2.0.0",
          "state": {
            "_dom_classes": [],
            "_model_module": "@jupyter-widgets/controls",
            "_model_module_version": "2.0.0",
            "_model_name": "HBoxModel",
            "_view_count": null,
            "_view_module": "@jupyter-widgets/controls",
            "_view_module_version": "2.0.0",
            "_view_name": "HBoxView",
            "box_style": "",
            "children": [
              "IPY_MODEL_1394aaff685c4083a3181c3c1b96ef20",
              "IPY_MODEL_d114d2df4d3c4b4485d6d98f2b5b92b3",
              "IPY_MODEL_670b6b37793c48988e240faeeb199c91"
            ],
            "layout": "IPY_MODEL_7bec8a994adf4e4eb334226cdae86624",
            "tabbable": null,
            "tooltip": null
          }
        },
        "1394aaff685c4083a3181c3c1b96ef20": {
          "model_module": "@jupyter-widgets/controls",
          "model_name": "HTMLModel",
          "model_module_version": "2.0.0",
          "state": {
            "_dom_classes": [],
            "_model_module": "@jupyter-widgets/controls",
            "_model_module_version": "2.0.0",
            "_model_name": "HTMLModel",
            "_view_count": null,
            "_view_module": "@jupyter-widgets/controls",
            "_view_module_version": "2.0.0",
            "_view_name": "HTMLView",
            "description": "",
            "description_allow_html": false,
            "layout": "IPY_MODEL_5d0b35651036473b996b90d429a669c7",
            "placeholder": "​",
            "style": "IPY_MODEL_95eda18ff3304537b09b3157999beff6",
            "tabbable": null,
            "tooltip": null,
            "value": "Map: 100%"
          }
        },
        "d114d2df4d3c4b4485d6d98f2b5b92b3": {
          "model_module": "@jupyter-widgets/controls",
          "model_name": "FloatProgressModel",
          "model_module_version": "2.0.0",
          "state": {
            "_dom_classes": [],
            "_model_module": "@jupyter-widgets/controls",
            "_model_module_version": "2.0.0",
            "_model_name": "FloatProgressModel",
            "_view_count": null,
            "_view_module": "@jupyter-widgets/controls",
            "_view_module_version": "2.0.0",
            "_view_name": "ProgressView",
            "bar_style": "success",
            "description": "",
            "description_allow_html": false,
            "layout": "IPY_MODEL_4962473d8b4342dca78fb44457bc615a",
            "max": 804,
            "min": 0,
            "orientation": "horizontal",
            "style": "IPY_MODEL_95ddfbc6be814891985a38c967a5da65",
            "tabbable": null,
            "tooltip": null,
            "value": 804
          }
        },
        "670b6b37793c48988e240faeeb199c91": {
          "model_module": "@jupyter-widgets/controls",
          "model_name": "HTMLModel",
          "model_module_version": "2.0.0",
          "state": {
            "_dom_classes": [],
            "_model_module": "@jupyter-widgets/controls",
            "_model_module_version": "2.0.0",
            "_model_name": "HTMLModel",
            "_view_count": null,
            "_view_module": "@jupyter-widgets/controls",
            "_view_module_version": "2.0.0",
            "_view_name": "HTMLView",
            "description": "",
            "description_allow_html": false,
            "layout": "IPY_MODEL_db0a8bd4bae74270a90086da058c2e11",
            "placeholder": "​",
            "style": "IPY_MODEL_ce39305b7ba74bcf827e86e1ca9ef2e0",
            "tabbable": null,
            "tooltip": null,
            "value": " 804/804 [00:04&lt;00:00, 183.82 examples/s]"
          }
        },
        "7bec8a994adf4e4eb334226cdae86624": {
          "model_module": "@jupyter-widgets/base",
          "model_name": "LayoutModel",
          "model_module_version": "2.0.0",
          "state": {
            "_model_module": "@jupyter-widgets/base",
            "_model_module_version": "2.0.0",
            "_model_name": "LayoutModel",
            "_view_count": null,
            "_view_module": "@jupyter-widgets/base",
            "_view_module_version": "2.0.0",
            "_view_name": "LayoutView",
            "align_content": null,
            "align_items": null,
            "align_self": null,
            "border_bottom": null,
            "border_left": null,
            "border_right": null,
            "border_top": null,
            "bottom": null,
            "display": null,
            "flex": null,
            "flex_flow": null,
            "grid_area": null,
            "grid_auto_columns": null,
            "grid_auto_flow": null,
            "grid_auto_rows": null,
            "grid_column": null,
            "grid_gap": null,
            "grid_row": null,
            "grid_template_areas": null,
            "grid_template_columns": null,
            "grid_template_rows": null,
            "height": null,
            "justify_content": null,
            "justify_items": null,
            "left": null,
            "margin": null,
            "max_height": null,
            "max_width": null,
            "min_height": null,
            "min_width": null,
            "object_fit": null,
            "object_position": null,
            "order": null,
            "overflow": null,
            "padding": null,
            "right": null,
            "top": null,
            "visibility": null,
            "width": null
          }
        },
        "5d0b35651036473b996b90d429a669c7": {
          "model_module": "@jupyter-widgets/base",
          "model_name": "LayoutModel",
          "model_module_version": "2.0.0",
          "state": {
            "_model_module": "@jupyter-widgets/base",
            "_model_module_version": "2.0.0",
            "_model_name": "LayoutModel",
            "_view_count": null,
            "_view_module": "@jupyter-widgets/base",
            "_view_module_version": "2.0.0",
            "_view_name": "LayoutView",
            "align_content": null,
            "align_items": null,
            "align_self": null,
            "border_bottom": null,
            "border_left": null,
            "border_right": null,
            "border_top": null,
            "bottom": null,
            "display": null,
            "flex": null,
            "flex_flow": null,
            "grid_area": null,
            "grid_auto_columns": null,
            "grid_auto_flow": null,
            "grid_auto_rows": null,
            "grid_column": null,
            "grid_gap": null,
            "grid_row": null,
            "grid_template_areas": null,
            "grid_template_columns": null,
            "grid_template_rows": null,
            "height": null,
            "justify_content": null,
            "justify_items": null,
            "left": null,
            "margin": null,
            "max_height": null,
            "max_width": null,
            "min_height": null,
            "min_width": null,
            "object_fit": null,
            "object_position": null,
            "order": null,
            "overflow": null,
            "padding": null,
            "right": null,
            "top": null,
            "visibility": null,
            "width": null
          }
        },
        "95eda18ff3304537b09b3157999beff6": {
          "model_module": "@jupyter-widgets/controls",
          "model_name": "HTMLStyleModel",
          "model_module_version": "2.0.0",
          "state": {
            "_model_module": "@jupyter-widgets/controls",
            "_model_module_version": "2.0.0",
            "_model_name": "HTMLStyleModel",
            "_view_count": null,
            "_view_module": "@jupyter-widgets/base",
            "_view_module_version": "2.0.0",
            "_view_name": "StyleView",
            "background": null,
            "description_width": "",
            "font_size": null,
            "text_color": null
          }
        },
        "4962473d8b4342dca78fb44457bc615a": {
          "model_module": "@jupyter-widgets/base",
          "model_name": "LayoutModel",
          "model_module_version": "2.0.0",
          "state": {
            "_model_module": "@jupyter-widgets/base",
            "_model_module_version": "2.0.0",
            "_model_name": "LayoutModel",
            "_view_count": null,
            "_view_module": "@jupyter-widgets/base",
            "_view_module_version": "2.0.0",
            "_view_name": "LayoutView",
            "align_content": null,
            "align_items": null,
            "align_self": null,
            "border_bottom": null,
            "border_left": null,
            "border_right": null,
            "border_top": null,
            "bottom": null,
            "display": null,
            "flex": null,
            "flex_flow": null,
            "grid_area": null,
            "grid_auto_columns": null,
            "grid_auto_flow": null,
            "grid_auto_rows": null,
            "grid_column": null,
            "grid_gap": null,
            "grid_row": null,
            "grid_template_areas": null,
            "grid_template_columns": null,
            "grid_template_rows": null,
            "height": null,
            "justify_content": null,
            "justify_items": null,
            "left": null,
            "margin": null,
            "max_height": null,
            "max_width": null,
            "min_height": null,
            "min_width": null,
            "object_fit": null,
            "object_position": null,
            "order": null,
            "overflow": null,
            "padding": null,
            "right": null,
            "top": null,
            "visibility": null,
            "width": null
          }
        },
        "95ddfbc6be814891985a38c967a5da65": {
          "model_module": "@jupyter-widgets/controls",
          "model_name": "ProgressStyleModel",
          "model_module_version": "2.0.0",
          "state": {
            "_model_module": "@jupyter-widgets/controls",
            "_model_module_version": "2.0.0",
            "_model_name": "ProgressStyleModel",
            "_view_count": null,
            "_view_module": "@jupyter-widgets/base",
            "_view_module_version": "2.0.0",
            "_view_name": "StyleView",
            "bar_color": null,
            "description_width": ""
          }
        },
        "db0a8bd4bae74270a90086da058c2e11": {
          "model_module": "@jupyter-widgets/base",
          "model_name": "LayoutModel",
          "model_module_version": "2.0.0",
          "state": {
            "_model_module": "@jupyter-widgets/base",
            "_model_module_version": "2.0.0",
            "_model_name": "LayoutModel",
            "_view_count": null,
            "_view_module": "@jupyter-widgets/base",
            "_view_module_version": "2.0.0",
            "_view_name": "LayoutView",
            "align_content": null,
            "align_items": null,
            "align_self": null,
            "border_bottom": null,
            "border_left": null,
            "border_right": null,
            "border_top": null,
            "bottom": null,
            "display": null,
            "flex": null,
            "flex_flow": null,
            "grid_area": null,
            "grid_auto_columns": null,
            "grid_auto_flow": null,
            "grid_auto_rows": null,
            "grid_column": null,
            "grid_gap": null,
            "grid_row": null,
            "grid_template_areas": null,
            "grid_template_columns": null,
            "grid_template_rows": null,
            "height": null,
            "justify_content": null,
            "justify_items": null,
            "left": null,
            "margin": null,
            "max_height": null,
            "max_width": null,
            "min_height": null,
            "min_width": null,
            "object_fit": null,
            "object_position": null,
            "order": null,
            "overflow": null,
            "padding": null,
            "right": null,
            "top": null,
            "visibility": null,
            "width": null
          }
        },
        "ce39305b7ba74bcf827e86e1ca9ef2e0": {
          "model_module": "@jupyter-widgets/controls",
          "model_name": "HTMLStyleModel",
          "model_module_version": "2.0.0",
          "state": {
            "_model_module": "@jupyter-widgets/controls",
            "_model_module_version": "2.0.0",
            "_model_name": "HTMLStyleModel",
            "_view_count": null,
            "_view_module": "@jupyter-widgets/base",
            "_view_module_version": "2.0.0",
            "_view_name": "StyleView",
            "background": null,
            "description_width": "",
            "font_size": null,
            "text_color": null
          }
        },
        "adda84dc2f3e42bf85ec8df34ef8104d": {
          "model_module": "@jupyter-widgets/controls",
          "model_name": "VBoxModel",
          "model_module_version": "2.0.0",
          "state": {
            "_dom_classes": [],
            "_model_module": "@jupyter-widgets/controls",
            "_model_module_version": "2.0.0",
            "_model_name": "VBoxModel",
            "_view_count": null,
            "_view_module": "@jupyter-widgets/controls",
            "_view_module_version": "2.0.0",
            "_view_name": "VBoxView",
            "box_style": "",
            "children": [
              "IPY_MODEL_7793e5e5fdd4489a894acda4e817befe",
              "IPY_MODEL_9786adb8aef445388597753262bf6759"
            ],
            "layout": "IPY_MODEL_b8a54333e4b94ede9f700a886774a227",
            "tabbable": null,
            "tooltip": null
          }
        },
        "7793e5e5fdd4489a894acda4e817befe": {
          "model_module": "@jupyter-widgets/controls",
          "model_name": "LabelModel",
          "model_module_version": "2.0.0",
          "state": {
            "_dom_classes": [],
            "_model_module": "@jupyter-widgets/controls",
            "_model_module_version": "2.0.0",
            "_model_name": "LabelModel",
            "_view_count": null,
            "_view_module": "@jupyter-widgets/controls",
            "_view_module_version": "2.0.0",
            "_view_name": "LabelView",
            "description": "",
            "description_allow_html": false,
            "layout": "IPY_MODEL_5bc74b31b70245d9b9ffc64d8350e9aa",
            "placeholder": "​",
            "style": "IPY_MODEL_38fdf7ec26a44cb799d34afe7e1bbdc6",
            "tabbable": null,
            "tooltip": null,
            "value": "0.636 MB of 0.636 MB uploaded\r"
          }
        },
        "9786adb8aef445388597753262bf6759": {
          "model_module": "@jupyter-widgets/controls",
          "model_name": "FloatProgressModel",
          "model_module_version": "2.0.0",
          "state": {
            "_dom_classes": [],
            "_model_module": "@jupyter-widgets/controls",
            "_model_module_version": "2.0.0",
            "_model_name": "FloatProgressModel",
            "_view_count": null,
            "_view_module": "@jupyter-widgets/controls",
            "_view_module_version": "2.0.0",
            "_view_name": "ProgressView",
            "bar_style": "",
            "description": "",
            "description_allow_html": false,
            "layout": "IPY_MODEL_bae839fd1491414a9b5b67032c9bcfba",
            "max": 1,
            "min": 0,
            "orientation": "horizontal",
            "style": "IPY_MODEL_4b6ecc07832e4fb89151216021e4e069",
            "tabbable": null,
            "tooltip": null,
            "value": 1
          }
        },
        "b8a54333e4b94ede9f700a886774a227": {
          "model_module": "@jupyter-widgets/base",
          "model_name": "LayoutModel",
          "model_module_version": "2.0.0",
          "state": {
            "_model_module": "@jupyter-widgets/base",
            "_model_module_version": "2.0.0",
            "_model_name": "LayoutModel",
            "_view_count": null,
            "_view_module": "@jupyter-widgets/base",
            "_view_module_version": "2.0.0",
            "_view_name": "LayoutView",
            "align_content": null,
            "align_items": null,
            "align_self": null,
            "border_bottom": null,
            "border_left": null,
            "border_right": null,
            "border_top": null,
            "bottom": null,
            "display": null,
            "flex": null,
            "flex_flow": null,
            "grid_area": null,
            "grid_auto_columns": null,
            "grid_auto_flow": null,
            "grid_auto_rows": null,
            "grid_column": null,
            "grid_gap": null,
            "grid_row": null,
            "grid_template_areas": null,
            "grid_template_columns": null,
            "grid_template_rows": null,
            "height": null,
            "justify_content": null,
            "justify_items": null,
            "left": null,
            "margin": null,
            "max_height": null,
            "max_width": null,
            "min_height": null,
            "min_width": null,
            "object_fit": null,
            "object_position": null,
            "order": null,
            "overflow": null,
            "padding": null,
            "right": null,
            "top": null,
            "visibility": null,
            "width": null
          }
        },
        "5bc74b31b70245d9b9ffc64d8350e9aa": {
          "model_module": "@jupyter-widgets/base",
          "model_name": "LayoutModel",
          "model_module_version": "2.0.0",
          "state": {
            "_model_module": "@jupyter-widgets/base",
            "_model_module_version": "2.0.0",
            "_model_name": "LayoutModel",
            "_view_count": null,
            "_view_module": "@jupyter-widgets/base",
            "_view_module_version": "2.0.0",
            "_view_name": "LayoutView",
            "align_content": null,
            "align_items": null,
            "align_self": null,
            "border_bottom": null,
            "border_left": null,
            "border_right": null,
            "border_top": null,
            "bottom": null,
            "display": null,
            "flex": null,
            "flex_flow": null,
            "grid_area": null,
            "grid_auto_columns": null,
            "grid_auto_flow": null,
            "grid_auto_rows": null,
            "grid_column": null,
            "grid_gap": null,
            "grid_row": null,
            "grid_template_areas": null,
            "grid_template_columns": null,
            "grid_template_rows": null,
            "height": null,
            "justify_content": null,
            "justify_items": null,
            "left": null,
            "margin": null,
            "max_height": null,
            "max_width": null,
            "min_height": null,
            "min_width": null,
            "object_fit": null,
            "object_position": null,
            "order": null,
            "overflow": null,
            "padding": null,
            "right": null,
            "top": null,
            "visibility": null,
            "width": null
          }
        },
        "38fdf7ec26a44cb799d34afe7e1bbdc6": {
          "model_module": "@jupyter-widgets/controls",
          "model_name": "LabelStyleModel",
          "model_module_version": "2.0.0",
          "state": {
            "_model_module": "@jupyter-widgets/controls",
            "_model_module_version": "2.0.0",
            "_model_name": "LabelStyleModel",
            "_view_count": null,
            "_view_module": "@jupyter-widgets/base",
            "_view_module_version": "2.0.0",
            "_view_name": "StyleView",
            "background": null,
            "description_width": "",
            "font_family": null,
            "font_size": null,
            "font_style": null,
            "font_variant": null,
            "font_weight": null,
            "text_color": null,
            "text_decoration": null
          }
        },
        "bae839fd1491414a9b5b67032c9bcfba": {
          "model_module": "@jupyter-widgets/base",
          "model_name": "LayoutModel",
          "model_module_version": "2.0.0",
          "state": {
            "_model_module": "@jupyter-widgets/base",
            "_model_module_version": "2.0.0",
            "_model_name": "LayoutModel",
            "_view_count": null,
            "_view_module": "@jupyter-widgets/base",
            "_view_module_version": "2.0.0",
            "_view_name": "LayoutView",
            "align_content": null,
            "align_items": null,
            "align_self": null,
            "border_bottom": null,
            "border_left": null,
            "border_right": null,
            "border_top": null,
            "bottom": null,
            "display": null,
            "flex": null,
            "flex_flow": null,
            "grid_area": null,
            "grid_auto_columns": null,
            "grid_auto_flow": null,
            "grid_auto_rows": null,
            "grid_column": null,
            "grid_gap": null,
            "grid_row": null,
            "grid_template_areas": null,
            "grid_template_columns": null,
            "grid_template_rows": null,
            "height": null,
            "justify_content": null,
            "justify_items": null,
            "left": null,
            "margin": null,
            "max_height": null,
            "max_width": null,
            "min_height": null,
            "min_width": null,
            "object_fit": null,
            "object_position": null,
            "order": null,
            "overflow": null,
            "padding": null,
            "right": null,
            "top": null,
            "visibility": null,
            "width": null
          }
        },
        "4b6ecc07832e4fb89151216021e4e069": {
          "model_module": "@jupyter-widgets/controls",
          "model_name": "ProgressStyleModel",
          "model_module_version": "2.0.0",
          "state": {
            "_model_module": "@jupyter-widgets/controls",
            "_model_module_version": "2.0.0",
            "_model_name": "ProgressStyleModel",
            "_view_count": null,
            "_view_module": "@jupyter-widgets/base",
            "_view_module_version": "2.0.0",
            "_view_name": "StyleView",
            "bar_color": null,
            "description_width": ""
          }
        }
      }
    }
  },
  "cells": [
    {
      "cell_type": "markdown",
      "metadata": {
        "id": "view-in-github",
        "colab_type": "text"
      },
      "source": [
        "<a href=\"https://colab.research.google.com/github/minooshayan97/Empathy_project/blob/main/tuneBERTasCE.ipynb\" target=\"_parent\"><img src=\"https://colab.research.google.com/assets/colab-badge.svg\" alt=\"Open In Colab\"/></a>"
      ]
    },
    {
      "cell_type": "code",
      "source": [
        "!pip install transformers datasets wandb"
      ],
      "metadata": {
        "colab": {
          "base_uri": "https://localhost:8080/"
        },
        "id": "6_2b-Aextylp",
        "outputId": "8bf135c1-9436-4161-e53e-c049f974aefb"
      },
      "execution_count": 1,
      "outputs": [
        {
          "output_type": "stream",
          "name": "stdout",
          "text": [
            "Defaulting to user installation because normal site-packages is not writeable\n",
            "Requirement already satisfied: transformers in c:\\users\\hai_l\\appdata\\roaming\\python\\python39\\site-packages (4.45.2)\n",
            "Requirement already satisfied: datasets in c:\\users\\hai_l\\appdata\\roaming\\python\\python39\\site-packages (3.0.1)\n",
            "Requirement already satisfied: wandb in c:\\users\\hai_l\\appdata\\roaming\\python\\python39\\site-packages (0.18.3)\n",
            "Requirement already satisfied: filelock in c:\\users\\hai_l\\appdata\\roaming\\python\\python39\\site-packages (from transformers) (3.13.1)\n",
            "Requirement already satisfied: huggingface-hub<1.0,>=0.23.2 in c:\\users\\hai_l\\appdata\\roaming\\python\\python39\\site-packages (from transformers) (0.25.2)\n",
            "Requirement already satisfied: numpy>=1.17 in c:\\users\\hai_l\\appdata\\roaming\\python\\python39\\site-packages (from transformers) (1.26.4)\n",
            "Requirement already satisfied: packaging>=20.0 in c:\\users\\hai_l\\appdata\\roaming\\python\\python39\\site-packages (from transformers) (23.2)\n",
            "Requirement already satisfied: pyyaml>=5.1 in c:\\users\\hai_l\\appdata\\roaming\\python\\python39\\site-packages (from transformers) (6.0.1)\n",
            "Requirement already satisfied: regex!=2019.12.17 in c:\\users\\hai_l\\appdata\\roaming\\python\\python39\\site-packages (from transformers) (2023.12.25)\n",
            "Requirement already satisfied: requests in c:\\users\\hai_l\\appdata\\roaming\\python\\python39\\site-packages (from transformers) (2.32.3)\n",
            "Requirement already satisfied: safetensors>=0.4.1 in c:\\users\\hai_l\\appdata\\roaming\\python\\python39\\site-packages (from transformers) (0.4.2)\n",
            "Requirement already satisfied: tokenizers<0.21,>=0.20 in c:\\users\\hai_l\\appdata\\roaming\\python\\python39\\site-packages (from transformers) (0.20.1)\n",
            "Requirement already satisfied: tqdm>=4.27 in c:\\users\\hai_l\\appdata\\roaming\\python\\python39\\site-packages (from transformers) (4.66.5)\n",
            "Requirement already satisfied: pyarrow>=15.0.0 in c:\\users\\hai_l\\appdata\\roaming\\python\\python39\\site-packages (from datasets) (15.0.0)\n",
            "Requirement already satisfied: dill<0.3.9,>=0.3.0 in c:\\users\\hai_l\\appdata\\roaming\\python\\python39\\site-packages (from datasets) (0.3.8)\n",
            "Requirement already satisfied: pandas in c:\\users\\hai_l\\appdata\\roaming\\python\\python39\\site-packages (from datasets) (2.2.0)\n",
            "Requirement already satisfied: xxhash in c:\\users\\hai_l\\appdata\\roaming\\python\\python39\\site-packages (from datasets) (3.4.1)\n",
            "Requirement already satisfied: multiprocess in c:\\users\\hai_l\\appdata\\roaming\\python\\python39\\site-packages (from datasets) (0.70.16)\n",
            "Requirement already satisfied: fsspec<=2024.6.1,>=2023.1.0 in c:\\users\\hai_l\\appdata\\roaming\\python\\python39\\site-packages (from fsspec[http]<=2024.6.1,>=2023.1.0->datasets) (2023.10.0)\n",
            "Requirement already satisfied: aiohttp in c:\\users\\hai_l\\appdata\\roaming\\python\\python39\\site-packages (from datasets) (3.9.3)\n",
            "Requirement already satisfied: click!=8.0.0,>=7.1 in c:\\users\\hai_l\\appdata\\roaming\\python\\python39\\site-packages (from wandb) (8.1.7)\n",
            "Requirement already satisfied: docker-pycreds>=0.4.0 in c:\\users\\hai_l\\appdata\\roaming\\python\\python39\\site-packages (from wandb) (0.4.0)\n",
            "Requirement already satisfied: gitpython!=3.1.29,>=1.0.0 in c:\\users\\hai_l\\appdata\\roaming\\python\\python39\\site-packages (from wandb) (3.1.42)\n",
            "Requirement already satisfied: platformdirs in c:\\users\\hai_l\\appdata\\roaming\\python\\python39\\site-packages (from wandb) (4.2.0)\n",
            "Requirement already satisfied: protobuf!=4.21.0,!=5.28.0,<6,>=3.19.0 in c:\\users\\hai_l\\appdata\\roaming\\python\\python39\\site-packages (from wandb) (4.25.3)\n",
            "Requirement already satisfied: psutil>=5.0.0 in c:\\users\\hai_l\\appdata\\roaming\\python\\python39\\site-packages (from wandb) (5.9.8)\n",
            "Requirement already satisfied: sentry-sdk>=1.0.0 in c:\\users\\hai_l\\appdata\\roaming\\python\\python39\\site-packages (from wandb) (1.40.6)\n",
            "Requirement already satisfied: setproctitle in c:\\users\\hai_l\\appdata\\roaming\\python\\python39\\site-packages (from wandb) (1.3.3)\n",
            "Requirement already satisfied: setuptools in c:\\users\\hai_l\\appdata\\roaming\\python\\python39\\site-packages (from wandb) (75.2.0)\n",
            "Requirement already satisfied: typing-extensions in c:\\users\\hai_l\\appdata\\roaming\\python\\python39\\site-packages (from wandb) (4.12.2)\n",
            "Requirement already satisfied: colorama in c:\\users\\hai_l\\appdata\\roaming\\python\\python39\\site-packages (from click!=8.0.0,>=7.1->wandb) (0.4.6)\n",
            "Requirement already satisfied: six>=1.4.0 in c:\\users\\hai_l\\appdata\\roaming\\python\\python39\\site-packages (from docker-pycreds>=0.4.0->wandb) (1.16.0)\n",
            "Requirement already satisfied: aiosignal>=1.1.2 in c:\\users\\hai_l\\appdata\\roaming\\python\\python39\\site-packages (from aiohttp->datasets) (1.3.1)\n",
            "Requirement already satisfied: attrs>=17.3.0 in c:\\users\\hai_l\\appdata\\roaming\\python\\python39\\site-packages (from aiohttp->datasets) (23.2.0)\n",
            "Requirement already satisfied: frozenlist>=1.1.1 in c:\\users\\hai_l\\appdata\\roaming\\python\\python39\\site-packages (from aiohttp->datasets) (1.4.1)\n",
            "Requirement already satisfied: multidict<7.0,>=4.5 in c:\\users\\hai_l\\appdata\\roaming\\python\\python39\\site-packages (from aiohttp->datasets) (6.0.5)\n",
            "Requirement already satisfied: yarl<2.0,>=1.0 in c:\\users\\hai_l\\appdata\\roaming\\python\\python39\\site-packages (from aiohttp->datasets) (1.9.4)\n",
            "Requirement already satisfied: async-timeout<5.0,>=4.0 in c:\\users\\hai_l\\appdata\\roaming\\python\\python39\\site-packages (from aiohttp->datasets) (4.0.3)\n",
            "Requirement already satisfied: gitdb<5,>=4.0.1 in c:\\users\\hai_l\\appdata\\roaming\\python\\python39\\site-packages (from gitpython!=3.1.29,>=1.0.0->wandb) (4.0.11)\n",
            "Requirement already satisfied: charset-normalizer<4,>=2 in c:\\users\\hai_l\\appdata\\roaming\\python\\python39\\site-packages (from requests->transformers) (3.3.2)\n",
            "Requirement already satisfied: idna<4,>=2.5 in c:\\users\\hai_l\\appdata\\roaming\\python\\python39\\site-packages (from requests->transformers) (3.10)\n",
            "Requirement already satisfied: urllib3<3,>=1.21.1 in c:\\users\\hai_l\\appdata\\roaming\\python\\python39\\site-packages (from requests->transformers) (1.26.20)\n",
            "Requirement already satisfied: certifi>=2017.4.17 in c:\\users\\hai_l\\appdata\\roaming\\python\\python39\\site-packages (from requests->transformers) (2024.2.2)\n",
            "Requirement already satisfied: python-dateutil>=2.8.2 in c:\\users\\hai_l\\appdata\\roaming\\python\\python39\\site-packages (from pandas->datasets) (2.8.2)\n",
            "Requirement already satisfied: pytz>=2020.1 in c:\\users\\hai_l\\appdata\\roaming\\python\\python39\\site-packages (from pandas->datasets) (2022.7.1)\n",
            "Requirement already satisfied: tzdata>=2022.7 in c:\\users\\hai_l\\appdata\\roaming\\python\\python39\\site-packages (from pandas->datasets) (2024.1)\n",
            "Requirement already satisfied: smmap<6,>=3.0.1 in c:\\users\\hai_l\\appdata\\roaming\\python\\python39\\site-packages (from gitdb<5,>=4.0.1->gitpython!=3.1.29,>=1.0.0->wandb) (5.0.1)\n"
          ]
        },
        {
          "output_type": "stream",
          "name": "stderr",
          "text": [
            "WARNING: Ignoring invalid distribution - (c:\\users\\hai_l\\appdata\\roaming\\python\\python39\\site-packages)\n",
            "WARNING: Ignoring invalid distribution -orch (c:\\users\\hai_l\\appdata\\roaming\\python\\python39\\site-packages)\n",
            "WARNING: Ignoring invalid distribution - (c:\\users\\hai_l\\appdata\\roaming\\python\\python39\\site-packages)\n",
            "WARNING: Ignoring invalid distribution -orch (c:\\users\\hai_l\\appdata\\roaming\\python\\python39\\site-packages)\n",
            "WARNING: Ignoring invalid distribution - (c:\\users\\hai_l\\appdata\\roaming\\python\\python39\\site-packages)\n",
            "WARNING: Ignoring invalid distribution -orch (c:\\users\\hai_l\\appdata\\roaming\\python\\python39\\site-packages)\n"
          ]
        }
      ]
    },
    {
      "cell_type": "code",
      "execution_count": 1,
      "metadata": {
        "colab": {
          "base_uri": "https://localhost:8080/"
        },
        "id": "VODedgcYtQHk",
        "outputId": "a7b6fdc0-947c-47e3-f1fb-cb3236eda810"
      },
      "outputs": [
        {
          "output_type": "execute_result",
          "data": {
            "text/plain": [
              "Dataset({\n",
              "    features: ['text', 'label'],\n",
              "    num_rows: 804\n",
              "})"
            ]
          },
          "metadata": {},
          "execution_count": 1
        }
      ],
      "source": [
        "from datasets import Dataset\n",
        "\n",
        "import pandas as pd\n",
        "\n",
        "df = pd.read_csv('Annotated_story_pairs2.csv')\n",
        "df['text'] = '[CLS]' + df['Shared_stories'] + '[SEP]' + df['Response_strories'] + '[SEP]'\n",
        "df['label'] = df['Rate']\n",
        "\n",
        "df = df[['text', 'label']]\n",
        "ds = Dataset.from_pandas(df)\n",
        "ds"
      ]
    },
    {
      "cell_type": "code",
      "source": [
        "from transformers import BertTokenizer\n",
        "\n",
        "tokenizer = BertTokenizer.from_pretrained('bert-base-uncased')\n",
        "\n",
        "ds = ds.map(lambda x: tokenizer(x['text'],  truncation=True, padding=True))"
      ],
      "metadata": {
        "colab": {
          "base_uri": "https://localhost:8080/",
          "height": 17,
          "referenced_widgets": [
            "5a311123f40f4257a4e474dc0a2eccdc",
            "1394aaff685c4083a3181c3c1b96ef20",
            "d114d2df4d3c4b4485d6d98f2b5b92b3",
            "670b6b37793c48988e240faeeb199c91",
            "7bec8a994adf4e4eb334226cdae86624",
            "5d0b35651036473b996b90d429a669c7",
            "95eda18ff3304537b09b3157999beff6",
            "4962473d8b4342dca78fb44457bc615a",
            "95ddfbc6be814891985a38c967a5da65",
            "db0a8bd4bae74270a90086da058c2e11",
            "ce39305b7ba74bcf827e86e1ca9ef2e0"
          ]
        },
        "id": "g7IaCchSvk5p",
        "outputId": "5eb2cb76-e943-470d-fc99-fe26993a4493"
      },
      "execution_count": 2,
      "outputs": [
        {
          "output_type": "display_data",
          "data": {
            "text/plain": [
              "Map:   0%|          | 0/804 [00:00<?, ? examples/s]"
            ],
            "application/vnd.jupyter.widget-view+json": {
              "version_major": 2,
              "version_minor": 0,
              "model_id": "5a311123f40f4257a4e474dc0a2eccdc"
            }
          },
          "metadata": {}
        }
      ]
    },
    {
      "cell_type": "code",
      "source": [
        "from transformers import DataCollatorWithPadding\n",
        "import torch\n",
        "\n",
        "# Rename columns to match what the model expects\n",
        "ds = ds.rename_column(\"label\", \"labels\")\n",
        "ds.set_format(type='torch', columns=['input_ids', 'attention_mask', 'labels'])\n",
        "\n",
        "# Define a data collator that dynamically pads batches to the maximum length within the batch\n",
        "data_collator = DataCollatorWithPadding(tokenizer=tokenizer, return_tensors='pt')"
      ],
      "metadata": {
        "id": "Rcq1JXdmGatU"
      },
      "execution_count": 3,
      "outputs": []
    },
    {
      "cell_type": "code",
      "source": [
        "# Split dataset into train and validation sets\n",
        "ds = ds.train_test_split(test_size=0.2)\n",
        "ds_ = ds['test'].train_test_split(test_size=0.5)\n",
        "\n",
        "train_ds = ds['train']\n",
        "test_ds = ds_['train']\n",
        "val_ds = ds_['test']"
      ],
      "metadata": {
        "id": "nomWyOSuw2n7"
      },
      "execution_count": 4,
      "outputs": []
    },
    {
      "cell_type": "code",
      "source": [
        "from torch.utils.data import DataLoader\n",
        "\n",
        "# Create data loaders for training and validation\n",
        "train_dataloader = DataLoader(train_ds, batch_size=16, shuffle=True, collate_fn=data_collator)\n",
        "val_dataloader = DataLoader(val_ds, batch_size=16, collate_fn=data_collator)\n"
      ],
      "metadata": {
        "id": "GVeuQEBWGkRd"
      },
      "execution_count": 5,
      "outputs": []
    },
    {
      "cell_type": "code",
      "source": [
        "from transformers import BertForSequenceClassification\n",
        "\n",
        "# Load the pre-trained BERT model for sequence classification (regression)\n",
        "model = BertForSequenceClassification.from_pretrained('bert-base-uncased', num_labels=1)  # num_labels=1 for regression\n"
      ],
      "metadata": {
        "colab": {
          "base_uri": "https://localhost:8080/"
        },
        "id": "pnIAqTP_GotC",
        "outputId": "e6e0d6b9-c635-47e2-9d81-ebb008bc4088"
      },
      "execution_count": 6,
      "outputs": [
        {
          "output_type": "stream",
          "name": "stderr",
          "text": [
            "Some weights of BertForSequenceClassification were not initialized from the model checkpoint at bert-base-uncased and are newly initialized: ['classifier.bias', 'classifier.weight']\n",
            "You should probably TRAIN this model on a down-stream task to be able to use it for predictions and inference.\n"
          ]
        }
      ]
    },
    {
      "cell_type": "code",
      "source": [
        "from transformers import AdamW\n",
        "\n",
        "# Define the optimizer\n",
        "optimizer = AdamW(model.parameters(), lr=2e-5)\n"
      ],
      "metadata": {
        "colab": {
          "base_uri": "https://localhost:8080/"
        },
        "id": "9MjSgL6cGqOi",
        "outputId": "49d30050-f4e6-46b9-995a-1a0924916c51"
      },
      "execution_count": 7,
      "outputs": [
        {
          "output_type": "stream",
          "name": "stderr",
          "text": [
            "C:\\Users\\hai_l\\AppData\\Roaming\\Python\\Python39\\site-packages\\transformers\\optimization.py:591: FutureWarning: This implementation of AdamW is deprecated and will be removed in a future version. Use the PyTorch implementation torch.optim.AdamW instead, or set `no_deprecation_warning=True` to disable this warning\n",
            "  warnings.warn(\n"
          ]
        }
      ]
    },
    {
      "cell_type": "code",
      "source": [
        "import wandb\n",
        "\n",
        "# Initialize wandb\n",
        "wandb.init(\n",
        "    project=\"bert-empathy-regression\",  # Set your project name here\n",
        "    config={\n",
        "        \"epochs\": 3,\n",
        "        \"batch_size\": 16,\n",
        "        \"learning_rate\": 2e-5,\n",
        "        \"model_name\": \"bert-base-uncased\"\n",
        "    }\n",
        ")\n"
      ],
      "metadata": {
        "colab": {
          "base_uri": "https://localhost:8080/",
          "height": 162
        },
        "id": "ti2t4PN4IiA4",
        "outputId": "88443f79-5716-4706-9ca0-7711bad2a9b9"
      },
      "execution_count": 8,
      "outputs": [
        {
          "output_type": "stream",
          "name": "stderr",
          "text": [
            "\u001b[34m\u001b[1mwandb\u001b[0m: Using wandb-core as the SDK backend. Please refer to https://wandb.me/wandb-core for more information.\n",
            "\u001b[34m\u001b[1mwandb\u001b[0m: Currently logged in as: \u001b[33mminooshayan97\u001b[0m (\u001b[33mminoosh\u001b[0m). Use \u001b[1m`wandb login --relogin`\u001b[0m to force relogin\n"
          ]
        },
        {
          "output_type": "display_data",
          "data": {
            "text/plain": [
              "<IPython.core.display.HTML object>"
            ],
            "text/html": [
              "Tracking run with wandb version 0.18.3"
            ]
          },
          "metadata": {}
        },
        {
          "output_type": "display_data",
          "data": {
            "text/plain": [
              "<IPython.core.display.HTML object>"
            ],
            "text/html": [
              "Run data is saved locally in <code>C:\\Users\\hai_l\\OneDrive\\Desktop\\Empathy Recognition\\wandb\\run-20241017_181637-rx1dmddt</code>"
            ]
          },
          "metadata": {}
        },
        {
          "output_type": "display_data",
          "data": {
            "text/plain": [
              "<IPython.core.display.HTML object>"
            ],
            "text/html": [
              "Syncing run <strong><a href='https://wandb.ai/minoosh/bert-empathy-regression/runs/rx1dmddt' target=\"_blank\">easy-dragon-4</a></strong> to <a href='https://wandb.ai/minoosh/bert-empathy-regression' target=\"_blank\">Weights & Biases</a> (<a href='https://wandb.me/run' target=\"_blank\">docs</a>)<br/>"
            ]
          },
          "metadata": {}
        },
        {
          "output_type": "display_data",
          "data": {
            "text/plain": [
              "<IPython.core.display.HTML object>"
            ],
            "text/html": [
              " View project at <a href='https://wandb.ai/minoosh/bert-empathy-regression' target=\"_blank\">https://wandb.ai/minoosh/bert-empathy-regression</a>"
            ]
          },
          "metadata": {}
        },
        {
          "output_type": "display_data",
          "data": {
            "text/plain": [
              "<IPython.core.display.HTML object>"
            ],
            "text/html": [
              " View run at <a href='https://wandb.ai/minoosh/bert-empathy-regression/runs/rx1dmddt' target=\"_blank\">https://wandb.ai/minoosh/bert-empathy-regression/runs/rx1dmddt</a>"
            ]
          },
          "metadata": {}
        },
        {
          "output_type": "execute_result",
          "data": {
            "text/html": [
              "<button onClick=\"this.nextSibling.style.display='block';this.style.display='none';\">Display W&B run</button><iframe src='https://wandb.ai/minoosh/bert-empathy-regression/runs/rx1dmddt?jupyter=true' style='border:none;width:100%;height:420px;display:none;'></iframe>"
            ],
            "text/plain": [
              "<wandb.sdk.wandb_run.Run at 0x2ac3d5460a0>"
            ]
          },
          "metadata": {},
          "execution_count": 8
        }
      ]
    },
    {
      "cell_type": "code",
      "source": [
        "from transformers import get_scheduler\n",
        "from tqdm import tqdm\n",
        "\n",
        "# Define the number of epochs\n",
        "num_epochs = 3\n",
        "\n",
        "# Set up learning rate scheduler\n",
        "num_training_steps = num_epochs * len(train_dataloader)\n",
        "lr_scheduler = get_scheduler(\n",
        "    \"linear\",\n",
        "    optimizer=optimizer,\n",
        "    num_warmup_steps=0,\n",
        "    num_training_steps=num_training_steps\n",
        ")\n",
        "\n",
        "# Move model to the GPU if available\n",
        "device = torch.device(\"cuda\") if torch.cuda.is_available() else torch.device(\"cpu\")\n",
        "model.to(device)\n",
        "\n",
        "# Add wandb to watch the model gradients\n",
        "wandb.watch(model, log=\"all\", log_freq=10)\n",
        "\n",
        "# Training loop\n",
        "for epoch in range(num_epochs):\n",
        "    model.train()\n",
        "    total_train_loss = 0\n",
        "    for batch in tqdm(train_dataloader):\n",
        "        # Move batch to the device\n",
        "        batch = {k: v.to(device) for k, v in batch.items()}\n",
        "\n",
        "        # Forward pass\n",
        "        outputs = model(**batch)\n",
        "        loss = outputs.loss\n",
        "\n",
        "        # Backward pass\n",
        "        loss.backward()\n",
        "\n",
        "        # Optimizer step\n",
        "        optimizer.step()\n",
        "        lr_scheduler.step()\n",
        "        optimizer.zero_grad()\n",
        "\n",
        "        # Accumulate training loss\n",
        "        total_train_loss += loss.item()\n",
        "\n",
        "        # Log the training loss to wandb\n",
        "        wandb.log({\"train_loss\": loss.item()})\n",
        "\n",
        "    # Calculate the average training loss for the epoch\n",
        "    avg_train_loss = total_train_loss / len(train_dataloader)\n",
        "\n",
        "    # Evaluation at the end of each epoch\n",
        "    model.eval()\n",
        "    total_val_loss = 0\n",
        "    for batch in val_dataloader:\n",
        "        batch = {k: v.to(device) for k, v in batch.items()}\n",
        "        with torch.no_grad():\n",
        "            outputs = model(**batch)\n",
        "            loss = outputs.loss\n",
        "            total_val_loss += loss.item()\n",
        "\n",
        "            # Log the validation loss to wandb\n",
        "            wandb.log({\"Val_loss\": loss.item()})\n",
        "\n",
        "    avg_val_loss = total_val_loss / len(val_dataloader)\n",
        "\n",
        "    # Log the average training and validation losses to wandb\n",
        "    wandb.log({\n",
        "        \"epoch\": epoch + 1,\n",
        "        \"avg_train_loss\": avg_train_loss,\n",
        "        \"avg_val_loss\": avg_val_loss\n",
        "    })\n",
        "\n",
        "    print(f\"Epoch {epoch + 1}/{num_epochs}, Train Loss: {avg_train_loss:.4f}, Validation Loss: {avg_val_loss:.4f}\")\n",
        "\n",
        "# Finish the wandb run\n",
        "wandb.finish()\n"
      ],
      "metadata": {
        "colab": {
          "base_uri": "https://localhost:8080/",
          "height": 456,
          "referenced_widgets": [
            "adda84dc2f3e42bf85ec8df34ef8104d",
            "7793e5e5fdd4489a894acda4e817befe",
            "9786adb8aef445388597753262bf6759",
            "b8a54333e4b94ede9f700a886774a227",
            "5bc74b31b70245d9b9ffc64d8350e9aa",
            "38fdf7ec26a44cb799d34afe7e1bbdc6",
            "bae839fd1491414a9b5b67032c9bcfba",
            "4b6ecc07832e4fb89151216021e4e069"
          ]
        },
        "id": "XiaZF7mHGq2_",
        "outputId": "4235caa5-e57c-4124-da7c-0e7b5537a05c"
      },
      "execution_count": 9,
      "outputs": [
        {
          "output_type": "stream",
          "name": "stderr",
          "text": [
            "\r  0%|                                                                                           | 0/41 [00:00<?, ?it/s]C:\\Users\\hai_l\\AppData\\Roaming\\Python\\Python39\\site-packages\\transformers\\models\\bert\\modeling_bert.py:440: UserWarning: 1Torch was not compiled with flash attention. (Triggered internally at C:\\actions-runner\\_work\\pytorch\\pytorch\\builder\\windows\\pytorch\\aten\\src\\ATen\\native\\transformers\\cuda\\sdp_utils.cpp:455.)\n",
            "  attn_output = torch.nn.functional.scaled_dot_product_attention(\n",
            "100%|██████████████████████████████████████████████████████████████████████████████████| 41/41 [00:35<00:00,  1.17it/s]\n"
          ]
        },
        {
          "output_type": "stream",
          "name": "stdout",
          "text": [
            "Epoch 1/3, Train Loss: 0.1591, Validation Loss: 0.0876\n"
          ]
        },
        {
          "output_type": "stream",
          "name": "stderr",
          "text": [
            "100%|██████████████████████████████████████████████████████████████████████████████████| 41/41 [00:34<00:00,  1.19it/s]\n"
          ]
        },
        {
          "output_type": "stream",
          "name": "stdout",
          "text": [
            "Epoch 2/3, Train Loss: 0.0967, Validation Loss: 0.0797\n"
          ]
        },
        {
          "output_type": "stream",
          "name": "stderr",
          "text": [
            "100%|██████████████████████████████████████████████████████████████████████████████████| 41/41 [00:34<00:00,  1.18it/s]\n"
          ]
        },
        {
          "output_type": "stream",
          "name": "stdout",
          "text": [
            "Epoch 3/3, Train Loss: 0.0923, Validation Loss: 0.0783\n"
          ]
        },
        {
          "output_type": "display_data",
          "data": {
            "text/plain": [
              "VBox(children=(Label(value='0.636 MB of 0.636 MB uploaded\\r'), FloatProgress(value=1.0, max=1.0)))"
            ],
            "application/vnd.jupyter.widget-view+json": {
              "version_major": 2,
              "version_minor": 0,
              "model_id": "adda84dc2f3e42bf85ec8df34ef8104d"
            }
          },
          "metadata": {}
        },
        {
          "output_type": "display_data",
          "data": {
            "text/plain": [
              "<IPython.core.display.HTML object>"
            ],
            "text/html": [
              "<style>\n",
              "    table.wandb td:nth-child(1) { padding: 0 10px; text-align: left ; width: auto;} td:nth-child(2) {text-align: left ; width: 100%}\n",
              "    .wandb-row { display: flex; flex-direction: row; flex-wrap: wrap; justify-content: flex-start; width: 100% }\n",
              "    .wandb-col { display: flex; flex-direction: column; flex-basis: 100%; flex: 1; padding: 10px; }\n",
              "    </style>\n",
              "<div class=\"wandb-row\"><div class=\"wandb-col\"><h3>Run history:</h3><br/><table class=\"wandb\"><tr><td>Val_loss</td><td>▄█▇▇▆▂▄█▇▇▅▁▄█▇▆▅▁</td></tr><tr><td>avg_train_loss</td><td>█▁▁</td></tr><tr><td>avg_val_loss</td><td>█▂▁</td></tr><tr><td>epoch</td><td>▁▅█</td></tr><tr><td>train_loss</td><td>█▆▁▁▂▁▂▁▂▁▁▁▂▂▁▁▁▁▁▁▂▁▁▁▁▁▁▁▁▂▁▂▁▁▁▁▁▁▁▁</td></tr></table><br/></div><div class=\"wandb-col\"><h3>Run summary:</h3><br/><table class=\"wandb\"><tr><td>Val_loss</td><td>0.00164</td></tr><tr><td>avg_train_loss</td><td>0.09225</td></tr><tr><td>avg_val_loss</td><td>0.07832</td></tr><tr><td>epoch</td><td>3</td></tr><tr><td>train_loss</td><td>0.19023</td></tr></table><br/></div></div>"
            ]
          },
          "metadata": {}
        },
        {
          "output_type": "display_data",
          "data": {
            "text/plain": [
              "<IPython.core.display.HTML object>"
            ],
            "text/html": [
              " View run <strong style=\"color:#cdcd00\">easy-dragon-4</strong> at: <a href='https://wandb.ai/minoosh/bert-empathy-regression/runs/rx1dmddt' target=\"_blank\">https://wandb.ai/minoosh/bert-empathy-regression/runs/rx1dmddt</a><br/> View project at: <a href='https://wandb.ai/minoosh/bert-empathy-regression' target=\"_blank\">https://wandb.ai/minoosh/bert-empathy-regression</a><br/>Synced 5 W&B file(s), 0 media file(s), 0 artifact file(s) and 0 other file(s)"
            ]
          },
          "metadata": {}
        },
        {
          "output_type": "display_data",
          "data": {
            "text/plain": [
              "<IPython.core.display.HTML object>"
            ],
            "text/html": [
              "Find logs at: <code>.\\wandb\\run-20241017_181637-rx1dmddt\\logs</code>"
            ]
          },
          "metadata": {}
        }
      ]
    },
    {
      "cell_type": "code",
      "source": [
        "# Disable wandb if you don't want to use it\n",
        "wandb.init(mode=\"disabled\")\n",
        ""
      ],
      "metadata": {
        "id": "KM009ugqOA50",
        "outputId": "48a509ce-916a-4eae-8d38-554ebdf72d07",
        "colab": {
          "base_uri": "https://localhost:8080/",
          "height": 38
        }
      },
      "execution_count": 77,
      "outputs": [
        {
          "output_type": "execute_result",
          "data": {
            "text/html": [
              "<button onClick=\"this.nextSibling.style.display='block';this.style.display='none';\">Display W&B run</button><iframe src='?jupyter=true' style='border:none;width:100%;height:420px;display:none;'></iframe>"
            ],
            "text/plain": [
              "<wandb.sdk.wandb_run.Run at 0x2ae52089970>"
            ]
          },
          "metadata": {},
          "execution_count": 77
        }
      ]
    },
    {
      "cell_type": "code",
      "source": [
        "# Move model to the device (CPU or GPU)\n",
        "device = torch.device(\"cuda\") if torch.cuda.is_available() else torch.device(\"cpu\")\n",
        "model.to(device)\n",
        "model.eval()  # Set the model to evaluation mode\n",
        "\n",
        "# Create a DataLoader for the tokenized test dataset\n",
        "test_dataloader = DataLoader(test_ds, batch_size=8, collate_fn=data_collator)\n",
        "\n",
        "# Function to predict empathy scores for a dataset\n",
        "def predict_empathy_scores(test_dataloader):\n",
        "    predictions = []\n",
        "    for batch in test_dataloader:\n",
        "        # Move inputs to the appropriate device\n",
        "        batch = {k: v.to(device) for k, v in batch.items() if k != \"labels\"}  # Ignore labels if present\n",
        "\n",
        "        # Make the prediction\n",
        "        with torch.no_grad():\n",
        "            outputs = model(**batch)\n",
        "            empathy_scores = outputs.logits.squeeze().cpu().numpy()  # Get the predicted scores\n",
        "\n",
        "        predictions.extend(empathy_scores)\n",
        "\n",
        "    return predictions\n",
        "\n",
        "# Get predictions for the tokenized test dataset\n",
        "predicted_scores = predict_empathy_scores(test_dataloader)"
      ],
      "metadata": {
        "id": "oU1C_Xv0HkGo"
      },
      "execution_count": 78,
      "outputs": []
    },
    {
      "cell_type": "code",
      "source": [
        "predicted_scores"
      ],
      "metadata": {
        "id": "UIq_HuyrPTrY",
        "outputId": "ecbc9bbc-0709-40a0-9aa5-1cfd0873c7f0",
        "colab": {
          "base_uri": "https://localhost:8080/"
        }
      },
      "execution_count": 80,
      "outputs": [
        {
          "output_type": "execute_result",
          "data": {
            "text/plain": [
              "[0.81301093,\n",
              " 0.4877539,\n",
              " 0.5479108,\n",
              " 0.51945585,\n",
              " 0.64684457,\n",
              " 0.60004705,\n",
              " 0.7976854,\n",
              " 0.55873907,\n",
              " 0.6344029,\n",
              " 0.6654223,\n",
              " 0.5904201,\n",
              " 0.40737203,\n",
              " 0.5133482,\n",
              " 0.44055286,\n",
              " 0.4414122,\n",
              " 0.69873786,\n",
              " 0.544845,\n",
              " 0.5507084,\n",
              " 0.38612026,\n",
              " 0.5649542,\n",
              " 0.46704325,\n",
              " 0.47212866,\n",
              " 0.49647367,\n",
              " 0.7041731,\n",
              " 0.66377217,\n",
              " 0.4927207,\n",
              " 0.61962587,\n",
              " 0.45325518,\n",
              " 0.5388958,\n",
              " 0.43521792,\n",
              " 0.54329664,\n",
              " 0.49708715,\n",
              " 0.60127527,\n",
              " 0.4569469,\n",
              " 0.6754456,\n",
              " 0.56113464,\n",
              " 0.5581767,\n",
              " 0.59130174,\n",
              " 0.6229515,\n",
              " 0.6858269,\n",
              " 0.5640714,\n",
              " 0.67401737,\n",
              " 0.76606363,\n",
              " 0.753791,\n",
              " 0.56794006,\n",
              " 0.70716906,\n",
              " 0.5919356,\n",
              " 0.48196384,\n",
              " 0.7767259,\n",
              " 0.56267345,\n",
              " 0.53049517,\n",
              " 0.5553158,\n",
              " 0.49058348,\n",
              " 0.5533395,\n",
              " 0.5373994,\n",
              " 0.5155756,\n",
              " 0.72361946,\n",
              " 0.4379422,\n",
              " 0.70023996,\n",
              " 0.63198096,\n",
              " 0.45059237,\n",
              " 0.42772004,\n",
              " 0.44793585,\n",
              " 0.52973443,\n",
              " 0.6291927,\n",
              " 0.5354675,\n",
              " 0.49829403,\n",
              " 0.5477609,\n",
              " 0.48996466,\n",
              " 0.6229515,\n",
              " 0.69991416,\n",
              " 0.51047546,\n",
              " 0.64674395,\n",
              " 0.41345087,\n",
              " 0.5862122,\n",
              " 0.49391973,\n",
              " 0.52449673,\n",
              " 0.55397666,\n",
              " 0.56384605,\n",
              " 0.5982763]"
            ]
          },
          "metadata": {},
          "execution_count": 80
        }
      ]
    },
    {
      "cell_type": "code",
      "source": [
        "test_ds['labels']"
      ],
      "metadata": {
        "id": "0yt2vP_mcoK3",
        "outputId": "63bbd190-2b57-49c2-aac6-e23c21dc55b6",
        "colab": {
          "base_uri": "https://localhost:8080/"
        }
      },
      "execution_count": 84,
      "outputs": [
        {
          "output_type": "execute_result",
          "data": {
            "text/plain": [
              "tensor([0.7500, 1.0000, 0.2500, 1.0000, 0.7500, 0.7500, 0.5000, 1.0000, 0.7500,\n",
              "        0.7500, 1.0000, 0.5000, 0.7500, 0.2500, 1.0000, 0.2500, 0.2500, 1.0000,\n",
              "        0.2500, 0.0000, 0.0000, 0.0000, 0.0000, 1.0000, 0.5000, 0.5000, 1.0000,\n",
              "        0.5000, 0.7500, 1.0000, 0.0000, 0.2500, 0.7500, 0.0000, 0.2500, 0.2500,\n",
              "        1.0000, 0.5000, 0.5000, 0.5000, 0.7500, 0.7500, 0.7500, 0.5000, 0.5000,\n",
              "        1.0000, 0.5000, 0.5000, 0.5000, 0.5000, 0.7500, 0.7500, 0.2500, 0.5000,\n",
              "        0.7500, 0.0000, 1.0000, 0.2500, 0.7500, 0.7500, 0.2500, 0.5000, 0.5000,\n",
              "        0.7500, 1.0000, 0.7500, 0.5000, 0.0000, 0.7500, 1.0000, 0.7500, 0.7500,\n",
              "        1.0000, 0.5000, 0.7500, 0.2500, 0.5000, 0.0000, 0.5000, 0.7500])"
            ]
          },
          "metadata": {},
          "execution_count": 84
        }
      ]
    },
    {
      "cell_type": "code",
      "source": [
        "import torch\n",
        "\n",
        "# Example predictions and labels (assume both are torch tensors)\n",
        "predictions = torch.tensor(predicted_scores)  # Example prediction values\n",
        "labels = torch.tensor(test_ds['labels'])      # Corresponding ground truth labels\n",
        "\n",
        "# Initialize the Mean Squared Error Loss function\n",
        "loss_fn = torch.nn.MSELoss()\n",
        "\n",
        "# Compute the loss between predictions and labels\n",
        "test_loss = loss_fn(predictions, labels)\n",
        "\n",
        "print(f\"Test Loss: {test_loss.item():.4f}\")"
      ],
      "metadata": {
        "id": "odDOcHtfdOcB",
        "outputId": "fd87796a-1543-4984-8f27-ebc0d6155c16",
        "colab": {
          "base_uri": "https://localhost:8080/"
        }
      },
      "execution_count": 89,
      "outputs": [
        {
          "output_type": "stream",
          "name": "stdout",
          "text": [
            "Test Loss: 0.0879\n"
          ]
        },
        {
          "output_type": "stream",
          "name": "stderr",
          "text": [
            "C:\\Users\\hai_l\\AppData\\Local\\Temp\\ipykernel_6236\\3201186786.py:5: UserWarning: To copy construct from a tensor, it is recommended to use sourceTensor.clone().detach() or sourceTensor.clone().detach().requires_grad_(True), rather than torch.tensor(sourceTensor).\n",
            "  labels = torch.tensor(test_ds['labels'])      # Corresponding ground truth labels\n"
          ]
        }
      ]
    },
    {
      "cell_type": "code",
      "source": [
        "import matplotlib.pyplot as plt\n",
        "\n",
        "\n",
        "# Set the figure size (width, height in inches)\n",
        "plt.figure(figsize=(15, 5))\n",
        "\n",
        "# Plot the first list\n",
        "plt.plot(predicted_scores, label='Prediction')\n",
        "\n",
        "# Plot the second list in red\n",
        "plt.plot(test_ds['labels'], color='green', label='Truth')\n",
        "\n",
        "# Add labels, title, and a legend\n",
        "plt.xlabel('Index')\n",
        "plt.ylabel('List Values')\n",
        "plt.title('Plot of List Values Against Index')\n",
        "plt.legend()\n",
        "\n",
        "# Show the plot\n",
        "plt.show()"
      ],
      "metadata": {
        "id": "2O4SFKi7ccia",
        "outputId": "e5f282b6-5207-4a05-f58f-75271ac08553",
        "colab": {
          "base_uri": "https://localhost:8080/",
          "height": 487
        }
      },
      "execution_count": 86,
      "outputs": [
        {
          "output_type": "display_data",
          "data": {
            "text/plain": [
              "<Figure size 1500x500 with 1 Axes>"
            ],
            "image/png": "[encoded data removed]"
          },
          "metadata": {}
        }
      ]
    },
    {
      "cell_type": "code",
      "source": [
        "model.save_pretrained('fine_tuned_bert_empathy')\n",
        "tokenizer.save_pretrained('fine_tuned_bert_empathy')\n"
      ],
      "metadata": {
        "id": "3DkzIVGxGxv0",
        "outputId": "62e28fe7-d4f6-4a2a-a2be-2a1407b37a81",
        "colab": {
          "base_uri": "https://localhost:8080/"
        }
      },
      "execution_count": 90,
      "outputs": [
        {
          "output_type": "execute_result",
          "data": {
            "text/plain": [
              "('fine_tuned_bert_empathy\\\\tokenizer_config.json',\n",
              " 'fine_tuned_bert_empathy\\\\special_tokens_map.json',\n",
              " 'fine_tuned_bert_empathy\\\\vocab.txt',\n",
              " 'fine_tuned_bert_empathy\\\\added_tokens.json')"
            ]
          },
          "metadata": {},
          "execution_count": 90
        }
      ]
    }
  ]
}