{
  "nbformat": 4,
  "nbformat_minor": 0,
  "metadata": {
    "colab": {
      "provenance": [],
      "gpuType": "T4",
      "include_colab_link": true
    },
    "kernelspec": {
      "name": "python3",
      "display_name": "Python 3"
    },
    "language_info": {
      "name": "python"
    },
    "accelerator": "GPU",
    "widgets": {
      "application/vnd.jupyter.widget-state+json": {
        "7a5bae9bd5bd42f7ba616e9623b4ae3f": {
          "model_module": "@jupyter-widgets/controls",
          "model_name": "HBoxModel",
          "model_module_version": "2.0.0",
          "state": {
            "_dom_classes": [],
            "_model_module": "@jupyter-widgets/controls",
            "_model_module_version": "2.0.0",
            "_model_name": "HBoxModel",
            "_view_count": null,
            "_view_module": "@jupyter-widgets/controls",
            "_view_module_version": "2.0.0",
            "_view_name": "HBoxView",
            "box_style": "",
            "children": [
              "IPY_MODEL_de591b59bff14ed1abd87d11dedb19b1",
              "IPY_MODEL_8e6035eefe9c4b5386fdf0aefce27d5e",
              "IPY_MODEL_19184e286324427e9281e8fbc7355ddd"
            ],
            "layout": "IPY_MODEL_3c57d32d4e9e4a65bf010ed5efed1075",
            "tabbable": null,
            "tooltip": null
          }
        },
        "de591b59bff14ed1abd87d11dedb19b1": {
          "model_module": "@jupyter-widgets/controls",
          "model_name": "HTMLModel",
          "model_module_version": "2.0.0",
          "state": {
            "_dom_classes": [],
            "_model_module": "@jupyter-widgets/controls",
            "_model_module_version": "2.0.0",
            "_model_name": "HTMLModel",
            "_view_count": null,
            "_view_module": "@jupyter-widgets/controls",
            "_view_module_version": "2.0.0",
            "_view_name": "HTMLView",
            "description": "",
            "description_allow_html": false,
            "layout": "IPY_MODEL_2c24a6ebc0eb459289f013c34be74a03",
            "placeholder": "​",
            "style": "IPY_MODEL_12470de43dcb4a15ba28f7d8ea7db4dc",
            "tabbable": null,
            "tooltip": null,
            "value": "Map: 100%"
          }
        },
        "8e6035eefe9c4b5386fdf0aefce27d5e": {
          "model_module": "@jupyter-widgets/controls",
          "model_name": "FloatProgressModel",
          "model_module_version": "2.0.0",
          "state": {
            "_dom_classes": [],
            "_model_module": "@jupyter-widgets/controls",
            "_model_module_version": "2.0.0",
            "_model_name": "FloatProgressModel",
            "_view_count": null,
            "_view_module": "@jupyter-widgets/controls",
            "_view_module_version": "2.0.0",
            "_view_name": "ProgressView",
            "bar_style": "success",
            "description": "",
            "description_allow_html": false,
            "layout": "IPY_MODEL_e6089491c8f14b9e9be7bd33d51a4bdd",
            "max": 3084,
            "min": 0,
            "orientation": "horizontal",
            "style": "IPY_MODEL_f86b2d6970bd4a28bbfc6662adf85ef1",
            "tabbable": null,
            "tooltip": null,
            "value": 3084
          }
        },
        "19184e286324427e9281e8fbc7355ddd": {
          "model_module": "@jupyter-widgets/controls",
          "model_name": "HTMLModel",
          "model_module_version": "2.0.0",
          "state": {
            "_dom_classes": [],
            "_model_module": "@jupyter-widgets/controls",
            "_model_module_version": "2.0.0",
            "_model_name": "HTMLModel",
            "_view_count": null,
            "_view_module": "@jupyter-widgets/controls",
            "_view_module_version": "2.0.0",
            "_view_name": "HTMLView",
            "description": "",
            "description_allow_html": false,
            "layout": "IPY_MODEL_b95f5636135740d9881356c79e1e7bce",
            "placeholder": "​",
            "style": "IPY_MODEL_b4af28d219d24dc680b5c2d3cfb69bb5",
            "tabbable": null,
            "tooltip": null,
            "value": " 3084/3084 [00:05&lt;00:00, 492.59 examples/s]"
          }
        },
        "3c57d32d4e9e4a65bf010ed5efed1075": {
          "model_module": "@jupyter-widgets/base",
          "model_name": "LayoutModel",
          "model_module_version": "2.0.0",
          "state": {
            "_model_module": "@jupyter-widgets/base",
            "_model_module_version": "2.0.0",
            "_model_name": "LayoutModel",
            "_view_count": null,
            "_view_module": "@jupyter-widgets/base",
            "_view_module_version": "2.0.0",
            "_view_name": "LayoutView",
            "align_content": null,
            "align_items": null,
            "align_self": null,
            "border_bottom": null,
            "border_left": null,
            "border_right": null,
            "border_top": null,
            "bottom": null,
            "display": null,
            "flex": null,
            "flex_flow": null,
            "grid_area": null,
            "grid_auto_columns": null,
            "grid_auto_flow": null,
            "grid_auto_rows": null,
            "grid_column": null,
            "grid_gap": null,
            "grid_row": null,
            "grid_template_areas": null,
            "grid_template_columns": null,
            "grid_template_rows": null,
            "height": null,
            "justify_content": null,
            "justify_items": null,
            "left": null,
            "margin": null,
            "max_height": null,
            "max_width": null,
            "min_height": null,
            "min_width": null,
            "object_fit": null,
            "object_position": null,
            "order": null,
            "overflow": null,
            "padding": null,
            "right": null,
            "top": null,
            "visibility": null,
            "width": null
          }
        },
        "2c24a6ebc0eb459289f013c34be74a03": {
          "model_module": "@jupyter-widgets/base",
          "model_name": "LayoutModel",
          "model_module_version": "2.0.0",
          "state": {
            "_model_module": "@jupyter-widgets/base",
            "_model_module_version": "2.0.0",
            "_model_name": "LayoutModel",
            "_view_count": null,
            "_view_module": "@jupyter-widgets/base",
            "_view_module_version": "2.0.0",
            "_view_name": "LayoutView",
            "align_content": null,
            "align_items": null,
            "align_self": null,
            "border_bottom": null,
            "border_left": null,
            "border_right": null,
            "border_top": null,
            "bottom": null,
            "display": null,
            "flex": null,
            "flex_flow": null,
            "grid_area": null,
            "grid_auto_columns": null,
            "grid_auto_flow": null,
            "grid_auto_rows": null,
            "grid_column": null,
            "grid_gap": null,
            "grid_row": null,
            "grid_template_areas": null,
            "grid_template_columns": null,
            "grid_template_rows": null,
            "height": null,
            "justify_content": null,
            "justify_items": null,
            "left": null,
            "margin": null,
            "max_height": null,
            "max_width": null,
            "min_height": null,
            "min_width": null,
            "object_fit": null,
            "object_position": null,
            "order": null,
            "overflow": null,
            "padding": null,
            "right": null,
            "top": null,
            "visibility": null,
            "width": null
          }
        },
        "12470de43dcb4a15ba28f7d8ea7db4dc": {
          "model_module": "@jupyter-widgets/controls",
          "model_name": "HTMLStyleModel",
          "model_module_version": "2.0.0",
          "state": {
            "_model_module": "@jupyter-widgets/controls",
            "_model_module_version": "2.0.0",
            "_model_name": "HTMLStyleModel",
            "_view_count": null,
            "_view_module": "@jupyter-widgets/base",
            "_view_module_version": "2.0.0",
            "_view_name": "StyleView",
            "background": null,
            "description_width": "",
            "font_size": null,
            "text_color": null
          }
        },
        "e6089491c8f14b9e9be7bd33d51a4bdd": {
          "model_module": "@jupyter-widgets/base",
          "model_name": "LayoutModel",
          "model_module_version": "2.0.0",
          "state": {
            "_model_module": "@jupyter-widgets/base",
            "_model_module_version": "2.0.0",
            "_model_name": "LayoutModel",
            "_view_count": null,
            "_view_module": "@jupyter-widgets/base",
            "_view_module_version": "2.0.0",
            "_view_name": "LayoutView",
            "align_content": null,
            "align_items": null,
            "align_self": null,
            "border_bottom": null,
            "border_left": null,
            "border_right": null,
            "border_top": null,
            "bottom": null,
            "display": null,
            "flex": null,
            "flex_flow": null,
            "grid_area": null,
            "grid_auto_columns": null,
            "grid_auto_flow": null,
            "grid_auto_rows": null,
            "grid_column": null,
            "grid_gap": null,
            "grid_row": null,
            "grid_template_areas": null,
            "grid_template_columns": null,
            "grid_template_rows": null,
            "height": null,
            "justify_content": null,
            "justify_items": null,
            "left": null,
            "margin": null,
            "max_height": null,
            "max_width": null,
            "min_height": null,
            "min_width": null,
            "object_fit": null,
            "object_position": null,
            "order": null,
            "overflow": null,
            "padding": null,
            "right": null,
            "top": null,
            "visibility": null,
            "width": null
          }
        },
        "f86b2d6970bd4a28bbfc6662adf85ef1": {
          "model_module": "@jupyter-widgets/controls",
          "model_name": "ProgressStyleModel",
          "model_module_version": "2.0.0",
          "state": {
            "_model_module": "@jupyter-widgets/controls",
            "_model_module_version": "2.0.0",
            "_model_name": "ProgressStyleModel",
            "_view_count": null,
            "_view_module": "@jupyter-widgets/base",
            "_view_module_version": "2.0.0",
            "_view_name": "StyleView",
            "bar_color": null,
            "description_width": ""
          }
        },
        "b95f5636135740d9881356c79e1e7bce": {
          "model_module": "@jupyter-widgets/base",
          "model_name": "LayoutModel",
          "model_module_version": "2.0.0",
          "state": {
            "_model_module": "@jupyter-widgets/base",
            "_model_module_version": "2.0.0",
            "_model_name": "LayoutModel",
            "_view_count": null,
            "_view_module": "@jupyter-widgets/base",
            "_view_module_version": "2.0.0",
            "_view_name": "LayoutView",
            "align_content": null,
            "align_items": null,
            "align_self": null,
            "border_bottom": null,
            "border_left": null,
            "border_right": null,
            "border_top": null,
            "bottom": null,
            "display": null,
            "flex": null,
            "flex_flow": null,
            "grid_area": null,
            "grid_auto_columns": null,
            "grid_auto_flow": null,
            "grid_auto_rows": null,
            "grid_column": null,
            "grid_gap": null,
            "grid_row": null,
            "grid_template_areas": null,
            "grid_template_columns": null,
            "grid_template_rows": null,
            "height": null,
            "justify_content": null,
            "justify_items": null,
            "left": null,
            "margin": null,
            "max_height": null,
            "max_width": null,
            "min_height": null,
            "min_width": null,
            "object_fit": null,
            "object_position": null,
            "order": null,
            "overflow": null,
            "padding": null,
            "right": null,
            "top": null,
            "visibility": null,
            "width": null
          }
        },
        "b4af28d219d24dc680b5c2d3cfb69bb5": {
          "model_module": "@jupyter-widgets/controls",
          "model_name": "HTMLStyleModel",
          "model_module_version": "2.0.0",
          "state": {
            "_model_module": "@jupyter-widgets/controls",
            "_model_module_version": "2.0.0",
            "_model_name": "HTMLStyleModel",
            "_view_count": null,
            "_view_module": "@jupyter-widgets/base",
            "_view_module_version": "2.0.0",
            "_view_name": "StyleView",
            "background": null,
            "description_width": "",
            "font_size": null,
            "text_color": null
          }
        },
        "a40bfc71657d4c9b90afb4796da9f89c": {
          "model_module": "@jupyter-widgets/controls",
          "model_name": "VBoxModel",
          "model_module_version": "2.0.0",
          "state": {
            "_dom_classes": [],
            "_model_module": "@jupyter-widgets/controls",
            "_model_module_version": "2.0.0",
            "_model_name": "VBoxModel",
            "_view_count": null,
            "_view_module": "@jupyter-widgets/controls",
            "_view_module_version": "2.0.0",
            "_view_name": "VBoxView",
            "box_style": "",
            "children": [
              "IPY_MODEL_b973ac92952e4983871137f9de250713",
              "IPY_MODEL_5fff033bc9f14b5d8fc1f5fbb8109b72"
            ],
            "layout": "IPY_MODEL_787fbb8082604645b05d82a96152aebf",
            "tabbable": null,
            "tooltip": null
          }
        },
        "b973ac92952e4983871137f9de250713": {
          "model_module": "@jupyter-widgets/controls",
          "model_name": "LabelModel",
          "model_module_version": "2.0.0",
          "state": {
            "_dom_classes": [],
            "_model_module": "@jupyter-widgets/controls",
            "_model_module_version": "2.0.0",
            "_model_name": "LabelModel",
            "_view_count": null,
            "_view_module": "@jupyter-widgets/controls",
            "_view_module_version": "2.0.0",
            "_view_name": "LabelView",
            "description": "",
            "description_allow_html": false,
            "layout": "IPY_MODEL_13cdd15de32e4bdc9d8ad48b8d6f507a",
            "placeholder": "​",
            "style": "IPY_MODEL_1824e89b50714a2bbd5e36d178df9ee8",
            "tabbable": null,
            "tooltip": null,
            "value": "0.641 MB of 0.641 MB uploaded\r"
          }
        },
        "5fff033bc9f14b5d8fc1f5fbb8109b72": {
          "model_module": "@jupyter-widgets/controls",
          "model_name": "FloatProgressModel",
          "model_module_version": "2.0.0",
          "state": {
            "_dom_classes": [],
            "_model_module": "@jupyter-widgets/controls",
            "_model_module_version": "2.0.0",
            "_model_name": "FloatProgressModel",
            "_view_count": null,
            "_view_module": "@jupyter-widgets/controls",
            "_view_module_version": "2.0.0",
            "_view_name": "ProgressView",
            "bar_style": "",
            "description": "",
            "description_allow_html": false,
            "layout": "IPY_MODEL_071f36ef132b4e9ba20695cf3daec894",
            "max": 1,
            "min": 0,
            "orientation": "horizontal",
            "style": "IPY_MODEL_e2ea03fe989c4aa1ae8af2e40beb9617",
            "tabbable": null,
            "tooltip": null,
            "value": 1
          }
        },
        "787fbb8082604645b05d82a96152aebf": {
          "model_module": "@jupyter-widgets/base",
          "model_name": "LayoutModel",
          "model_module_version": "2.0.0",
          "state": {
            "_model_module": "@jupyter-widgets/base",
            "_model_module_version": "2.0.0",
            "_model_name": "LayoutModel",
            "_view_count": null,
            "_view_module": "@jupyter-widgets/base",
            "_view_module_version": "2.0.0",
            "_view_name": "LayoutView",
            "align_content": null,
            "align_items": null,
            "align_self": null,
            "border_bottom": null,
            "border_left": null,
            "border_right": null,
            "border_top": null,
            "bottom": null,
            "display": null,
            "flex": null,
            "flex_flow": null,
            "grid_area": null,
            "grid_auto_columns": null,
            "grid_auto_flow": null,
            "grid_auto_rows": null,
            "grid_column": null,
            "grid_gap": null,
            "grid_row": null,
            "grid_template_areas": null,
            "grid_template_columns": null,
            "grid_template_rows": null,
            "height": null,
            "justify_content": null,
            "justify_items": null,
            "left": null,
            "margin": null,
            "max_height": null,
            "max_width": null,
            "min_height": null,
            "min_width": null,
            "object_fit": null,
            "object_position": null,
            "order": null,
            "overflow": null,
            "padding": null,
            "right": null,
            "top": null,
            "visibility": null,
            "width": null
          }
        },
        "13cdd15de32e4bdc9d8ad48b8d6f507a": {
          "model_module": "@jupyter-widgets/base",
          "model_name": "LayoutModel",
          "model_module_version": "2.0.0",
          "state": {
            "_model_module": "@jupyter-widgets/base",
            "_model_module_version": "2.0.0",
            "_model_name": "LayoutModel",
            "_view_count": null,
            "_view_module": "@jupyter-widgets/base",
            "_view_module_version": "2.0.0",
            "_view_name": "LayoutView",
            "align_content": null,
            "align_items": null,
            "align_self": null,
            "border_bottom": null,
            "border_left": null,
            "border_right": null,
            "border_top": null,
            "bottom": null,
            "display": null,
            "flex": null,
            "flex_flow": null,
            "grid_area": null,
            "grid_auto_columns": null,
            "grid_auto_flow": null,
            "grid_auto_rows": null,
            "grid_column": null,
            "grid_gap": null,
            "grid_row": null,
            "grid_template_areas": null,
            "grid_template_columns": null,
            "grid_template_rows": null,
            "height": null,
            "justify_content": null,
            "justify_items": null,
            "left": null,
            "margin": null,
            "max_height": null,
            "max_width": null,
            "min_height": null,
            "min_width": null,
            "object_fit": null,
            "object_position": null,
            "order": null,
            "overflow": null,
            "padding": null,
            "right": null,
            "top": null,
            "visibility": null,
            "width": null
          }
        },
        "1824e89b50714a2bbd5e36d178df9ee8": {
          "model_module": "@jupyter-widgets/controls",
          "model_name": "LabelStyleModel",
          "model_module_version": "2.0.0",
          "state": {
            "_model_module": "@jupyter-widgets/controls",
            "_model_module_version": "2.0.0",
            "_model_name": "LabelStyleModel",
            "_view_count": null,
            "_view_module": "@jupyter-widgets/base",
            "_view_module_version": "2.0.0",
            "_view_name": "StyleView",
            "background": null,
            "description_width": "",
            "font_family": null,
            "font_size": null,
            "font_style": null,
            "font_variant": null,
            "font_weight": null,
            "text_color": null,
            "text_decoration": null
          }
        },
        "071f36ef132b4e9ba20695cf3daec894": {
          "model_module": "@jupyter-widgets/base",
          "model_name": "LayoutModel",
          "model_module_version": "2.0.0",
          "state": {
            "_model_module": "@jupyter-widgets/base",
            "_model_module_version": "2.0.0",
            "_model_name": "LayoutModel",
            "_view_count": null,
            "_view_module": "@jupyter-widgets/base",
            "_view_module_version": "2.0.0",
            "_view_name": "LayoutView",
            "align_content": null,
            "align_items": null,
            "align_self": null,
            "border_bottom": null,
            "border_left": null,
            "border_right": null,
            "border_top": null,
            "bottom": null,
            "display": null,
            "flex": null,
            "flex_flow": null,
            "grid_area": null,
            "grid_auto_columns": null,
            "grid_auto_flow": null,
            "grid_auto_rows": null,
            "grid_column": null,
            "grid_gap": null,
            "grid_row": null,
            "grid_template_areas": null,
            "grid_template_columns": null,
            "grid_template_rows": null,
            "height": null,
            "justify_content": null,
            "justify_items": null,
            "left": null,
            "margin": null,
            "max_height": null,
            "max_width": null,
            "min_height": null,
            "min_width": null,
            "object_fit": null,
            "object_position": null,
            "order": null,
            "overflow": null,
            "padding": null,
            "right": null,
            "top": null,
            "visibility": null,
            "width": null
          }
        },
        "e2ea03fe989c4aa1ae8af2e40beb9617": {
          "model_module": "@jupyter-widgets/controls",
          "model_name": "ProgressStyleModel",
          "model_module_version": "2.0.0",
          "state": {
            "_model_module": "@jupyter-widgets/controls",
            "_model_module_version": "2.0.0",
            "_model_name": "ProgressStyleModel",
            "_view_count": null,
            "_view_module": "@jupyter-widgets/base",
            "_view_module_version": "2.0.0",
            "_view_name": "StyleView",
            "bar_color": null,
            "description_width": ""
          }
        }
      }
    }
  },
  "cells": [
    {
      "cell_type": "markdown",
      "metadata": {
        "id": "view-in-github",
        "colab_type": "text"
      },
      "source": [
        "<a href=\"https://colab.research.google.com/github/minooshayan97/Empathy_project/blob/main/tuneBERTasCE2.ipynb\" target=\"_parent\"><img src=\"https://colab.research.google.com/assets/colab-badge.svg\" alt=\"Open In Colab\"/></a>"
      ]
    },
    {
      "cell_type": "code",
      "source": [
        "!pip install transformers datasets wandb"
      ],
      "metadata": {
        "colab": {
          "base_uri": "https://localhost:8080/"
        },
        "id": "6_2b-Aextylp",
        "outputId": "8bf135c1-9436-4161-e53e-c049f974aefb"
      },
      "execution_count": null,
      "outputs": [
        {
          "output_type": "stream",
          "name": "stdout",
          "text": [
            "Defaulting to user installation because normal site-packages is not writeable\n",
            "Requirement already satisfied: transformers in c:\\users\\hai_l\\appdata\\roaming\\python\\python39\\site-packages (4.45.2)\n",
            "Requirement already satisfied: datasets in c:\\users\\hai_l\\appdata\\roaming\\python\\python39\\site-packages (3.0.1)\n",
            "Requirement already satisfied: wandb in c:\\users\\hai_l\\appdata\\roaming\\python\\python39\\site-packages (0.18.3)\n",
            "Requirement already satisfied: filelock in c:\\users\\hai_l\\appdata\\roaming\\python\\python39\\site-packages (from transformers) (3.13.1)\n",
            "Requirement already satisfied: huggingface-hub<1.0,>=0.23.2 in c:\\users\\hai_l\\appdata\\roaming\\python\\python39\\site-packages (from transformers) (0.25.2)\n",
            "Requirement already satisfied: numpy>=1.17 in c:\\users\\hai_l\\appdata\\roaming\\python\\python39\\site-packages (from transformers) (1.26.4)\n",
            "Requirement already satisfied: packaging>=20.0 in c:\\users\\hai_l\\appdata\\roaming\\python\\python39\\site-packages (from transformers) (23.2)\n",
            "Requirement already satisfied: pyyaml>=5.1 in c:\\users\\hai_l\\appdata\\roaming\\python\\python39\\site-packages (from transformers) (6.0.1)\n",
            "Requirement already satisfied: regex!=2019.12.17 in c:\\users\\hai_l\\appdata\\roaming\\python\\python39\\site-packages (from transformers) (2023.12.25)\n",
            "Requirement already satisfied: requests in c:\\users\\hai_l\\appdata\\roaming\\python\\python39\\site-packages (from transformers) (2.32.3)\n",
            "Requirement already satisfied: safetensors>=0.4.1 in c:\\users\\hai_l\\appdata\\roaming\\python\\python39\\site-packages (from transformers) (0.4.2)\n",
            "Requirement already satisfied: tokenizers<0.21,>=0.20 in c:\\users\\hai_l\\appdata\\roaming\\python\\python39\\site-packages (from transformers) (0.20.1)\n",
            "Requirement already satisfied: tqdm>=4.27 in c:\\users\\hai_l\\appdata\\roaming\\python\\python39\\site-packages (from transformers) (4.66.5)\n",
            "Requirement already satisfied: pyarrow>=15.0.0 in c:\\users\\hai_l\\appdata\\roaming\\python\\python39\\site-packages (from datasets) (15.0.0)\n",
            "Requirement already satisfied: dill<0.3.9,>=0.3.0 in c:\\users\\hai_l\\appdata\\roaming\\python\\python39\\site-packages (from datasets) (0.3.8)\n",
            "Requirement already satisfied: pandas in c:\\users\\hai_l\\appdata\\roaming\\python\\python39\\site-packages (from datasets) (2.2.0)\n",
            "Requirement already satisfied: xxhash in c:\\users\\hai_l\\appdata\\roaming\\python\\python39\\site-packages (from datasets) (3.4.1)\n",
            "Requirement already satisfied: multiprocess in c:\\users\\hai_l\\appdata\\roaming\\python\\python39\\site-packages (from datasets) (0.70.16)\n",
            "Requirement already satisfied: fsspec<=2024.6.1,>=2023.1.0 in c:\\users\\hai_l\\appdata\\roaming\\python\\python39\\site-packages (from fsspec[http]<=2024.6.1,>=2023.1.0->datasets) (2023.10.0)\n",
            "Requirement already satisfied: aiohttp in c:\\users\\hai_l\\appdata\\roaming\\python\\python39\\site-packages (from datasets) (3.9.3)\n",
            "Requirement already satisfied: click!=8.0.0,>=7.1 in c:\\users\\hai_l\\appdata\\roaming\\python\\python39\\site-packages (from wandb) (8.1.7)\n",
            "Requirement already satisfied: docker-pycreds>=0.4.0 in c:\\users\\hai_l\\appdata\\roaming\\python\\python39\\site-packages (from wandb) (0.4.0)\n",
            "Requirement already satisfied: gitpython!=3.1.29,>=1.0.0 in c:\\users\\hai_l\\appdata\\roaming\\python\\python39\\site-packages (from wandb) (3.1.42)\n",
            "Requirement already satisfied: platformdirs in c:\\users\\hai_l\\appdata\\roaming\\python\\python39\\site-packages (from wandb) (4.2.0)\n",
            "Requirement already satisfied: protobuf!=4.21.0,!=5.28.0,<6,>=3.19.0 in c:\\users\\hai_l\\appdata\\roaming\\python\\python39\\site-packages (from wandb) (4.25.3)\n",
            "Requirement already satisfied: psutil>=5.0.0 in c:\\users\\hai_l\\appdata\\roaming\\python\\python39\\site-packages (from wandb) (5.9.8)\n",
            "Requirement already satisfied: sentry-sdk>=1.0.0 in c:\\users\\hai_l\\appdata\\roaming\\python\\python39\\site-packages (from wandb) (1.40.6)\n",
            "Requirement already satisfied: setproctitle in c:\\users\\hai_l\\appdata\\roaming\\python\\python39\\site-packages (from wandb) (1.3.3)\n",
            "Requirement already satisfied: setuptools in c:\\users\\hai_l\\appdata\\roaming\\python\\python39\\site-packages (from wandb) (75.2.0)\n",
            "Requirement already satisfied: typing-extensions in c:\\users\\hai_l\\appdata\\roaming\\python\\python39\\site-packages (from wandb) (4.12.2)\n",
            "Requirement already satisfied: colorama in c:\\users\\hai_l\\appdata\\roaming\\python\\python39\\site-packages (from click!=8.0.0,>=7.1->wandb) (0.4.6)\n",
            "Requirement already satisfied: six>=1.4.0 in c:\\users\\hai_l\\appdata\\roaming\\python\\python39\\site-packages (from docker-pycreds>=0.4.0->wandb) (1.16.0)\n",
            "Requirement already satisfied: aiosignal>=1.1.2 in c:\\users\\hai_l\\appdata\\roaming\\python\\python39\\site-packages (from aiohttp->datasets) (1.3.1)\n",
            "Requirement already satisfied: attrs>=17.3.0 in c:\\users\\hai_l\\appdata\\roaming\\python\\python39\\site-packages (from aiohttp->datasets) (23.2.0)\n",
            "Requirement already satisfied: frozenlist>=1.1.1 in c:\\users\\hai_l\\appdata\\roaming\\python\\python39\\site-packages (from aiohttp->datasets) (1.4.1)\n",
            "Requirement already satisfied: multidict<7.0,>=4.5 in c:\\users\\hai_l\\appdata\\roaming\\python\\python39\\site-packages (from aiohttp->datasets) (6.0.5)\n",
            "Requirement already satisfied: yarl<2.0,>=1.0 in c:\\users\\hai_l\\appdata\\roaming\\python\\python39\\site-packages (from aiohttp->datasets) (1.9.4)\n",
            "Requirement already satisfied: async-timeout<5.0,>=4.0 in c:\\users\\hai_l\\appdata\\roaming\\python\\python39\\site-packages (from aiohttp->datasets) (4.0.3)\n",
            "Requirement already satisfied: gitdb<5,>=4.0.1 in c:\\users\\hai_l\\appdata\\roaming\\python\\python39\\site-packages (from gitpython!=3.1.29,>=1.0.0->wandb) (4.0.11)\n",
            "Requirement already satisfied: charset-normalizer<4,>=2 in c:\\users\\hai_l\\appdata\\roaming\\python\\python39\\site-packages (from requests->transformers) (3.3.2)\n",
            "Requirement already satisfied: idna<4,>=2.5 in c:\\users\\hai_l\\appdata\\roaming\\python\\python39\\site-packages (from requests->transformers) (3.10)\n",
            "Requirement already satisfied: urllib3<3,>=1.21.1 in c:\\users\\hai_l\\appdata\\roaming\\python\\python39\\site-packages (from requests->transformers) (1.26.20)\n",
            "Requirement already satisfied: certifi>=2017.4.17 in c:\\users\\hai_l\\appdata\\roaming\\python\\python39\\site-packages (from requests->transformers) (2024.2.2)\n",
            "Requirement already satisfied: python-dateutil>=2.8.2 in c:\\users\\hai_l\\appdata\\roaming\\python\\python39\\site-packages (from pandas->datasets) (2.8.2)\n",
            "Requirement already satisfied: pytz>=2020.1 in c:\\users\\hai_l\\appdata\\roaming\\python\\python39\\site-packages (from pandas->datasets) (2022.7.1)\n",
            "Requirement already satisfied: tzdata>=2022.7 in c:\\users\\hai_l\\appdata\\roaming\\python\\python39\\site-packages (from pandas->datasets) (2024.1)\n",
            "Requirement already satisfied: smmap<6,>=3.0.1 in c:\\users\\hai_l\\appdata\\roaming\\python\\python39\\site-packages (from gitdb<5,>=4.0.1->gitpython!=3.1.29,>=1.0.0->wandb) (5.0.1)\n"
          ]
        },
        {
          "output_type": "stream",
          "name": "stderr",
          "text": [
            "WARNING: Ignoring invalid distribution - (c:\\users\\hai_l\\appdata\\roaming\\python\\python39\\site-packages)\n",
            "WARNING: Ignoring invalid distribution -orch (c:\\users\\hai_l\\appdata\\roaming\\python\\python39\\site-packages)\n",
            "WARNING: Ignoring invalid distribution - (c:\\users\\hai_l\\appdata\\roaming\\python\\python39\\site-packages)\n",
            "WARNING: Ignoring invalid distribution -orch (c:\\users\\hai_l\\appdata\\roaming\\python\\python39\\site-packages)\n",
            "WARNING: Ignoring invalid distribution - (c:\\users\\hai_l\\appdata\\roaming\\python\\python39\\site-packages)\n",
            "WARNING: Ignoring invalid distribution -orch (c:\\users\\hai_l\\appdata\\roaming\\python\\python39\\site-packages)\n"
          ]
        }
      ]
    },
    {
      "cell_type": "code",
      "execution_count": 2,
      "metadata": {
        "colab": {
          "base_uri": "https://localhost:8080/"
        },
        "id": "VODedgcYtQHk",
        "outputId": "0a2b7543-1cb5-4f99-91af-11c3d7da98d5"
      },
      "outputs": [
        {
          "output_type": "execute_result",
          "data": {
            "text/plain": [
              "Dataset({\n",
              "    features: ['text', 'label'],\n",
              "    num_rows: 3084\n",
              "})"
            ]
          },
          "metadata": {},
          "execution_count": 2
        }
      ],
      "source": [
        "from datasets import Dataset\n",
        "\n",
        "import pandas as pd\n",
        "\n",
        "df = pd.read_csv('EPITOME_pairs2.csv')\n",
        "df['text'] = '[CLS]' + df['seeker_post'] + '[SEP]' + df['response_post'] + '[SEP]'\n",
        "df['label'] = df['level']\n",
        "\n",
        "df = df[['text', 'label']]\n",
        "ds = Dataset.from_pandas(df)\n",
        "ds"
      ]
    },
    {
      "cell_type": "code",
      "source": [
        "from transformers import BertTokenizer\n",
        "\n",
        "tokenizer = BertTokenizer.from_pretrained('bert-base-uncased')\n",
        "\n",
        "ds = ds.map(lambda x: tokenizer(x['text'],  truncation=True, padding=True))"
      ],
      "metadata": {
        "colab": {
          "base_uri": "https://localhost:8080/",
          "height": 17,
          "referenced_widgets": [
            "7a5bae9bd5bd42f7ba616e9623b4ae3f",
            "de591b59bff14ed1abd87d11dedb19b1",
            "8e6035eefe9c4b5386fdf0aefce27d5e",
            "19184e286324427e9281e8fbc7355ddd",
            "3c57d32d4e9e4a65bf010ed5efed1075",
            "2c24a6ebc0eb459289f013c34be74a03",
            "12470de43dcb4a15ba28f7d8ea7db4dc",
            "e6089491c8f14b9e9be7bd33d51a4bdd",
            "f86b2d6970bd4a28bbfc6662adf85ef1",
            "b95f5636135740d9881356c79e1e7bce",
            "b4af28d219d24dc680b5c2d3cfb69bb5"
          ]
        },
        "id": "g7IaCchSvk5p",
        "outputId": "3f02c6c5-3086-4cc4-f6f9-bcaf8ff3c08d"
      },
      "execution_count": 3,
      "outputs": [
        {
          "output_type": "display_data",
          "data": {
            "text/plain": [
              "Map:   0%|          | 0/3084 [00:00<?, ? examples/s]"
            ],
            "application/vnd.jupyter.widget-view+json": {
              "version_major": 2,
              "version_minor": 0,
              "model_id": "7a5bae9bd5bd42f7ba616e9623b4ae3f"
            }
          },
          "metadata": {}
        }
      ]
    },
    {
      "cell_type": "code",
      "source": [
        "from transformers import DataCollatorWithPadding\n",
        "import torch\n",
        "\n",
        "# Rename columns to match what the model expects\n",
        "ds = ds.rename_column(\"label\", \"labels\")\n",
        "ds.set_format(type='torch', columns=['input_ids', 'attention_mask', 'labels'])\n",
        "\n",
        "# Define a data collator that dynamically pads batches to the maximum length within the batch\n",
        "data_collator = DataCollatorWithPadding(tokenizer=tokenizer, return_tensors='pt')"
      ],
      "metadata": {
        "id": "Rcq1JXdmGatU"
      },
      "execution_count": 4,
      "outputs": []
    },
    {
      "cell_type": "code",
      "source": [
        "# Split dataset into train and validation sets\n",
        "ds = ds.train_test_split(test_size=0.2)\n",
        "ds_ = ds['test'].train_test_split(test_size=0.5)\n",
        "\n",
        "train_ds = ds['train']\n",
        "test_ds = ds_['train']\n",
        "val_ds = ds_['test']"
      ],
      "metadata": {
        "id": "nomWyOSuw2n7"
      },
      "execution_count": 5,
      "outputs": []
    },
    {
      "cell_type": "code",
      "source": [
        "from torch.utils.data import DataLoader\n",
        "\n",
        "# Create data loaders for training and validation\n",
        "train_dataloader = DataLoader(train_ds, batch_size=16, shuffle=True, collate_fn=data_collator)\n",
        "val_dataloader = DataLoader(val_ds, batch_size=16, collate_fn=data_collator)\n"
      ],
      "metadata": {
        "id": "GVeuQEBWGkRd"
      },
      "execution_count": 6,
      "outputs": []
    },
    {
      "cell_type": "code",
      "source": [
        "from transformers import BertForSequenceClassification\n",
        "\n",
        "# Load the pre-trained BERT model for sequence classification (regression)\n",
        "model = BertForSequenceClassification.from_pretrained('bert-base-uncased', num_labels=1)  # num_labels=1 for regression\n"
      ],
      "metadata": {
        "colab": {
          "base_uri": "https://localhost:8080/"
        },
        "id": "pnIAqTP_GotC",
        "outputId": "3e6126ac-0b06-4840-8e99-c9869064010b"
      },
      "execution_count": 7,
      "outputs": [
        {
          "output_type": "stream",
          "name": "stderr",
          "text": [
            "Some weights of BertForSequenceClassification were not initialized from the model checkpoint at bert-base-uncased and are newly initialized: ['classifier.bias', 'classifier.weight']\n",
            "You should probably TRAIN this model on a down-stream task to be able to use it for predictions and inference.\n"
          ]
        }
      ]
    },
    {
      "cell_type": "code",
      "source": [
        "from transformers import AdamW\n",
        "\n",
        "# Define the optimizer\n",
        "optimizer = AdamW(model.parameters(), lr=2e-5)\n"
      ],
      "metadata": {
        "colab": {
          "base_uri": "https://localhost:8080/"
        },
        "id": "9MjSgL6cGqOi",
        "outputId": "c0273c9a-cee3-45b2-ea79-62b261ec12c5"
      },
      "execution_count": 8,
      "outputs": [
        {
          "output_type": "stream",
          "name": "stderr",
          "text": [
            "C:\\Users\\hai_l\\AppData\\Roaming\\Python\\Python39\\site-packages\\transformers\\optimization.py:591: FutureWarning: This implementation of AdamW is deprecated and will be removed in a future version. Use the PyTorch implementation torch.optim.AdamW instead, or set `no_deprecation_warning=True` to disable this warning\n",
            "  warnings.warn(\n"
          ]
        }
      ]
    },
    {
      "cell_type": "code",
      "source": [
        "import wandb\n",
        "\n",
        "# Initialize wandb\n",
        "wandb.init(\n",
        "    project=\"bert-empathy-regression\",  # Set your project name here\n",
        "    config={\n",
        "        \"epochs\": 3,\n",
        "        \"batch_size\": 16,\n",
        "        \"learning_rate\": 2e-5,\n",
        "        \"model_name\": \"bert-base-uncased\"\n",
        "    }\n",
        ")\n"
      ],
      "metadata": {
        "colab": {
          "base_uri": "https://localhost:8080/",
          "height": 162
        },
        "id": "ti2t4PN4IiA4",
        "outputId": "c5168795-9191-4007-93dd-c44054316eab"
      },
      "execution_count": 9,
      "outputs": [
        {
          "output_type": "stream",
          "name": "stderr",
          "text": [
            "\u001b[34m\u001b[1mwandb\u001b[0m: Using wandb-core as the SDK backend. Please refer to https://wandb.me/wandb-core for more information.\n",
            "\u001b[34m\u001b[1mwandb\u001b[0m: Currently logged in as: \u001b[33mminooshayan97\u001b[0m (\u001b[33mminoosh\u001b[0m). Use \u001b[1m`wandb login --relogin`\u001b[0m to force relogin\n"
          ]
        },
        {
          "output_type": "display_data",
          "data": {
            "text/plain": [
              "<IPython.core.display.HTML object>"
            ],
            "text/html": [
              "Tracking run with wandb version 0.18.3"
            ]
          },
          "metadata": {}
        },
        {
          "output_type": "display_data",
          "data": {
            "text/plain": [
              "<IPython.core.display.HTML object>"
            ],
            "text/html": [
              "Run data is saved locally in <code>C:\\Users\\hai_l\\OneDrive\\Desktop\\Empathy Recognition\\wandb\\run-20241018_114438-l7dln4g1</code>"
            ]
          },
          "metadata": {}
        },
        {
          "output_type": "display_data",
          "data": {
            "text/plain": [
              "<IPython.core.display.HTML object>"
            ],
            "text/html": [
              "Syncing run <strong><a href='https://wandb.ai/minoosh/bert-empathy-regression/runs/l7dln4g1' target=\"_blank\">valiant-star-5</a></strong> to <a href='https://wandb.ai/minoosh/bert-empathy-regression' target=\"_blank\">Weights & Biases</a> (<a href='https://wandb.me/run' target=\"_blank\">docs</a>)<br/>"
            ]
          },
          "metadata": {}
        },
        {
          "output_type": "display_data",
          "data": {
            "text/plain": [
              "<IPython.core.display.HTML object>"
            ],
            "text/html": [
              " View project at <a href='https://wandb.ai/minoosh/bert-empathy-regression' target=\"_blank\">https://wandb.ai/minoosh/bert-empathy-regression</a>"
            ]
          },
          "metadata": {}
        },
        {
          "output_type": "display_data",
          "data": {
            "text/plain": [
              "<IPython.core.display.HTML object>"
            ],
            "text/html": [
              " View run at <a href='https://wandb.ai/minoosh/bert-empathy-regression/runs/l7dln4g1' target=\"_blank\">https://wandb.ai/minoosh/bert-empathy-regression/runs/l7dln4g1</a>"
            ]
          },
          "metadata": {}
        },
        {
          "output_type": "execute_result",
          "data": {
            "text/html": [
              "<button onClick=\"this.nextSibling.style.display='block';this.style.display='none';\">Display W&B run</button><iframe src='https://wandb.ai/minoosh/bert-empathy-regression/runs/l7dln4g1?jupyter=true' style='border:none;width:100%;height:420px;display:none;'></iframe>"
            ],
            "text/plain": [
              "<wandb.sdk.wandb_run.Run at 0x1e3efb71820>"
            ]
          },
          "metadata": {},
          "execution_count": 9
        }
      ]
    },
    {
      "cell_type": "code",
      "source": [
        "from transformers import get_scheduler\n",
        "from tqdm import tqdm\n",
        "\n",
        "# Define the number of epochs\n",
        "num_epochs = 3\n",
        "\n",
        "# Set up learning rate scheduler\n",
        "num_training_steps = num_epochs * len(train_dataloader)\n",
        "lr_scheduler = get_scheduler(\n",
        "    \"linear\",\n",
        "    optimizer=optimizer,\n",
        "    num_warmup_steps=0,\n",
        "    num_training_steps=num_training_steps\n",
        ")\n",
        "\n",
        "# Move model to the GPU if available\n",
        "device = torch.device(\"cuda\") if torch.cuda.is_available() else torch.device(\"cpu\")\n",
        "model.to(device)\n",
        "\n",
        "# Add wandb to watch the model gradients\n",
        "wandb.watch(model, log=\"all\", log_freq=10)\n",
        "\n",
        "# Training loop\n",
        "for epoch in range(num_epochs):\n",
        "    model.train()\n",
        "    total_train_loss = 0\n",
        "    for batch in tqdm(train_dataloader):\n",
        "        # Move batch to the device\n",
        "        batch = {k: v.to(device) for k, v in batch.items()}\n",
        "\n",
        "        # Forward pass\n",
        "        outputs = model(**batch)\n",
        "        loss = outputs.loss\n",
        "\n",
        "        # Backward pass\n",
        "        loss.backward()\n",
        "\n",
        "        # Optimizer step\n",
        "        optimizer.step()\n",
        "        lr_scheduler.step()\n",
        "        optimizer.zero_grad()\n",
        "\n",
        "        # Accumulate training loss\n",
        "        total_train_loss += loss.item()\n",
        "\n",
        "        # Log the training loss to wandb\n",
        "        wandb.log({\"train_loss\": loss.item()})\n",
        "\n",
        "    # Calculate the average training loss for the epoch\n",
        "    avg_train_loss = total_train_loss / len(train_dataloader)\n",
        "\n",
        "    # Evaluation at the end of each epoch\n",
        "    model.eval()\n",
        "    total_val_loss = 0\n",
        "    for batch in val_dataloader:\n",
        "        batch = {k: v.to(device) for k, v in batch.items()}\n",
        "        with torch.no_grad():\n",
        "            outputs = model(**batch)\n",
        "            loss = outputs.loss\n",
        "            total_val_loss += loss.item()\n",
        "\n",
        "            # Log the validation loss to wandb\n",
        "            wandb.log({\"Val_loss\": loss.item()})\n",
        "\n",
        "    avg_val_loss = total_val_loss / len(val_dataloader)\n",
        "\n",
        "    # Log the average training and validation losses to wandb\n",
        "    wandb.log({\n",
        "        \"epoch\": epoch + 1,\n",
        "        \"avg_train_loss\": avg_train_loss,\n",
        "        \"avg_val_loss\": avg_val_loss\n",
        "    })\n",
        "\n",
        "    print(f\"Epoch {epoch + 1}/{num_epochs}, Train Loss: {avg_train_loss:.4f}, Validation Loss: {avg_val_loss:.4f}\")\n",
        "\n",
        "# Finish the wandb run\n",
        "wandb.finish()\n"
      ],
      "metadata": {
        "colab": {
          "base_uri": "https://localhost:8080/",
          "height": 456,
          "referenced_widgets": [
            "a40bfc71657d4c9b90afb4796da9f89c",
            "b973ac92952e4983871137f9de250713",
            "5fff033bc9f14b5d8fc1f5fbb8109b72",
            "787fbb8082604645b05d82a96152aebf",
            "13cdd15de32e4bdc9d8ad48b8d6f507a",
            "1824e89b50714a2bbd5e36d178df9ee8",
            "071f36ef132b4e9ba20695cf3daec894",
            "e2ea03fe989c4aa1ae8af2e40beb9617"
          ]
        },
        "id": "XiaZF7mHGq2_",
        "outputId": "bcb19ba3-5532-4580-86f3-33e9de928580"
      },
      "execution_count": 10,
      "outputs": [
        {
          "output_type": "stream",
          "name": "stderr",
          "text": [
            "\r  0%|                                                                                          | 0/155 [00:00<?, ?it/s]C:\\Users\\hai_l\\AppData\\Roaming\\Python\\Python39\\site-packages\\transformers\\models\\bert\\modeling_bert.py:440: UserWarning: 1Torch was not compiled with flash attention. (Triggered internally at C:\\actions-runner\\_work\\pytorch\\pytorch\\builder\\windows\\pytorch\\aten\\src\\ATen\\native\\transformers\\cuda\\sdp_utils.cpp:455.)\n",
            "  attn_output = torch.nn.functional.scaled_dot_product_attention(\n",
            "100%|████████████████████████████████████████████████████████████████████████████████| 155/155 [02:43<00:00,  1.05s/it]\n"
          ]
        },
        {
          "output_type": "stream",
          "name": "stdout",
          "text": [
            "Epoch 1/3, Train Loss: 0.0442, Validation Loss: 0.0286\n"
          ]
        },
        {
          "output_type": "stream",
          "name": "stderr",
          "text": [
            "100%|████████████████████████████████████████████████████████████████████████████████| 155/155 [02:51<00:00,  1.10s/it]\n"
          ]
        },
        {
          "output_type": "stream",
          "name": "stdout",
          "text": [
            "Epoch 2/3, Train Loss: 0.0325, Validation Loss: 0.0306\n"
          ]
        },
        {
          "output_type": "stream",
          "name": "stderr",
          "text": [
            "100%|████████████████████████████████████████████████████████████████████████████████| 155/155 [02:46<00:00,  1.07s/it]\n"
          ]
        },
        {
          "output_type": "stream",
          "name": "stdout",
          "text": [
            "Epoch 3/3, Train Loss: 0.0253, Validation Loss: 0.0274\n"
          ]
        },
        {
          "output_type": "display_data",
          "data": {
            "text/plain": [
              "VBox(children=(Label(value='0.641 MB of 0.641 MB uploaded\\r'), FloatProgress(value=1.0, max=1.0)))"
            ],
            "application/vnd.jupyter.widget-view+json": {
              "version_major": 2,
              "version_minor": 0,
              "model_id": "a40bfc71657d4c9b90afb4796da9f89c"
            }
          },
          "metadata": {}
        },
        {
          "output_type": "display_data",
          "data": {
            "text/plain": [
              "<IPython.core.display.HTML object>"
            ],
            "text/html": [
              "<style>\n",
              "    table.wandb td:nth-child(1) { padding: 0 10px; text-align: left ; width: auto;} td:nth-child(2) {text-align: left ; width: 100%}\n",
              "    .wandb-row { display: flex; flex-direction: row; flex-wrap: wrap; justify-content: flex-start; width: 100% }\n",
              "    .wandb-col { display: flex; flex-direction: column; flex-basis: 100%; flex: 1; padding: 10px; }\n",
              "    </style>\n",
              "<div class=\"wandb-row\"><div class=\"wandb-col\"><h3>Run history:</h3><br/><table class=\"wandb\"><tr><td>Val_loss</td><td>▃▅▅▂▇▃▅▂▄▄▄█▅▇▇▂▆▂▃▆▄▃▆▄▂▃▇▅▃▆▆▅▂▆▃▅▁▄▅▂</td></tr><tr><td>avg_train_loss</td><td>█▄▁</td></tr><tr><td>avg_val_loss</td><td>▄█▁</td></tr><tr><td>epoch</td><td>▁▅█</td></tr><tr><td>train_loss</td><td>▅▅▄█▄▅▅▃▄▇▄▃▄▅▂▆▆▂▅▅▇▅▄▄▅▂▂▄▄▄▄▃▃▅▅▄▂▁▂▄</td></tr></table><br/></div><div class=\"wandb-col\"><h3>Run summary:</h3><br/><table class=\"wandb\"><tr><td>Val_loss</td><td>0.01988</td></tr><tr><td>avg_train_loss</td><td>0.02532</td></tr><tr><td>avg_val_loss</td><td>0.02742</td></tr><tr><td>epoch</td><td>3</td></tr><tr><td>train_loss</td><td>0.03646</td></tr></table><br/></div></div>"
            ]
          },
          "metadata": {}
        },
        {
          "output_type": "display_data",
          "data": {
            "text/plain": [
              "<IPython.core.display.HTML object>"
            ],
            "text/html": [
              " View run <strong style=\"color:#cdcd00\">valiant-star-5</strong> at: <a href='https://wandb.ai/minoosh/bert-empathy-regression/runs/l7dln4g1' target=\"_blank\">https://wandb.ai/minoosh/bert-empathy-regression/runs/l7dln4g1</a><br/> View project at: <a href='https://wandb.ai/minoosh/bert-empathy-regression' target=\"_blank\">https://wandb.ai/minoosh/bert-empathy-regression</a><br/>Synced 5 W&B file(s), 0 media file(s), 0 artifact file(s) and 0 other file(s)"
            ]
          },
          "metadata": {}
        },
        {
          "output_type": "display_data",
          "data": {
            "text/plain": [
              "<IPython.core.display.HTML object>"
            ],
            "text/html": [
              "Find logs at: <code>.\\wandb\\run-20241018_114438-l7dln4g1\\logs</code>"
            ]
          },
          "metadata": {}
        }
      ]
    },
    {
      "cell_type": "code",
      "source": [
        "# Disable wandb if you don't want to use it\n",
        "wandb.init(mode=\"disabled\")\n"
      ],
      "metadata": {
        "id": "KM009ugqOA50",
        "outputId": "0e4ba1e7-5564-4f78-b076-984b0fc9eb93",
        "colab": {
          "base_uri": "https://localhost:8080/",
          "height": 38
        }
      },
      "execution_count": 11,
      "outputs": [
        {
          "output_type": "execute_result",
          "data": {
            "text/html": [
              "<button onClick=\"this.nextSibling.style.display='block';this.style.display='none';\">Display W&B run</button><iframe src='?jupyter=true' style='border:none;width:100%;height:420px;display:none;'></iframe>"
            ],
            "text/plain": [
              "<wandb.sdk.wandb_run.Run at 0x1e3efe93fa0>"
            ]
          },
          "metadata": {},
          "execution_count": 11
        }
      ]
    },
    {
      "cell_type": "code",
      "source": [
        "# Move model to the device (CPU or GPU)\n",
        "device = torch.device(\"cuda\") if torch.cuda.is_available() else torch.device(\"cpu\")\n",
        "model.to(device)\n",
        "model.eval()  # Set the model to evaluation mode\n",
        "\n",
        "# Create a DataLoader for the tokenized test dataset\n",
        "test_dataloader = DataLoader(test_ds, batch_size=8, collate_fn=data_collator)\n",
        "\n",
        "# Function to predict empathy scores for a dataset\n",
        "def predict_empathy_scores(test_dataloader):\n",
        "    predictions = []\n",
        "    for batch in test_dataloader:\n",
        "        # Move inputs to the appropriate device\n",
        "        batch = {k: v.to(device) for k, v in batch.items() if k != \"labels\"}  # Ignore labels if present\n",
        "\n",
        "        # Make the prediction\n",
        "        with torch.no_grad():\n",
        "            outputs = model(**batch)\n",
        "            empathy_scores = outputs.logits.squeeze().cpu().numpy()  # Get the predicted scores\n",
        "\n",
        "        predictions.extend(empathy_scores)\n",
        "\n",
        "    return predictions\n",
        "\n",
        "# Get predictions for the tokenized test dataset\n",
        "predicted_scores = predict_empathy_scores(test_dataloader)"
      ],
      "metadata": {
        "id": "oU1C_Xv0HkGo"
      },
      "execution_count": 12,
      "outputs": []
    },
    {
      "cell_type": "code",
      "source": [
        "predicted_scores"
      ],
      "metadata": {
        "id": "UIq_HuyrPTrY",
        "outputId": "1d111ba1-abc4-46e7-a9fe-b173d6401cc2",
        "colab": {
          "base_uri": "https://localhost:8080/"
        }
      },
      "execution_count": 13,
      "outputs": [
        {
          "output_type": "execute_result",
          "data": {
            "text/plain": [
              "[0.3255953,\n",
              " 0.35665303,\n",
              " 0.15031902,\n",
              " 0.24973163,\n",
              " 0.31469223,\n",
              " 0.3302258,\n",
              " 0.41524783,\n",
              " 0.16361395,\n",
              " 0.43461296,\n",
              " 0.60082704,\n",
              " 0.1093399,\n",
              " 0.3158164,\n",
              " 0.16731627,\n",
              " 0.13297698,\n",
              " 0.18167004,\n",
              " 0.2996818,\n",
              " 0.43829298,\n",
              " 0.37765476,\n",
              " 0.46268603,\n",
              " 0.39403257,\n",
              " 0.21670194,\n",
              " 0.49928656,\n",
              " 0.33743623,\n",
              " 0.12475598,\n",
              " 0.26358458,\n",
              " 0.25740042,\n",
              " 0.13449416,\n",
              " 0.19829918,\n",
              " 0.45277128,\n",
              " 0.1968325,\n",
              " 0.16050448,\n",
              " 0.07182826,\n",
              " 0.22183482,\n",
              " 0.26757327,\n",
              " 0.5114775,\n",
              " 0.37254614,\n",
              " 0.31452227,\n",
              " 0.22436921,\n",
              " 0.21463561,\n",
              " 0.35889015,\n",
              " 0.20879972,\n",
              " 0.23022994,\n",
              " 0.48632336,\n",
              " 0.38224134,\n",
              " 0.17507236,\n",
              " 0.2896753,\n",
              " 0.29426083,\n",
              " 0.31377897,\n",
              " 0.6038105,\n",
              " 0.15928528,\n",
              " 0.61307305,\n",
              " 0.4148987,\n",
              " 0.11645281,\n",
              " 0.4197709,\n",
              " 0.23987894,\n",
              " 0.2948245,\n",
              " 0.37630296,\n",
              " 0.13733013,\n",
              " 0.26884624,\n",
              " 0.1503019,\n",
              " 0.22686094,\n",
              " 0.20404474,\n",
              " 0.2941217,\n",
              " 0.26065013,\n",
              " 0.29147163,\n",
              " 0.23193814,\n",
              " 0.15595853,\n",
              " 0.31322524,\n",
              " 0.14359243,\n",
              " 0.24014191,\n",
              " 0.51802033,\n",
              " 0.48057315,\n",
              " 0.13739717,\n",
              " 0.20511118,\n",
              " 0.42200166,\n",
              " 0.4298778,\n",
              " 0.121815294,\n",
              " 0.2090271,\n",
              " 0.39039433,\n",
              " 0.41144046,\n",
              " 0.33737183,\n",
              " 0.20243357,\n",
              " 0.10724868,\n",
              " 0.40005738,\n",
              " 0.18963279,\n",
              " 0.18356293,\n",
              " 0.22631614,\n",
              " 0.2736477,\n",
              " 0.20822021,\n",
              " 0.32828546,\n",
              " 0.1378332,\n",
              " 0.3136069,\n",
              " 0.22510949,\n",
              " 0.33300373,\n",
              " 0.2801024,\n",
              " 0.18332042,\n",
              " 0.15684097,\n",
              " 0.24717051,\n",
              " 0.20050941,\n",
              " 0.1878156,\n",
              " 0.17136131,\n",
              " 0.13109487,\n",
              " 0.29662067,\n",
              " 0.33834407,\n",
              " 0.47845295,\n",
              " 0.1781131,\n",
              " 0.42064145,\n",
              " 0.14224558,\n",
              " 0.12349987,\n",
              " 0.24058972,\n",
              " 0.15609564,\n",
              " 0.14105664,\n",
              " 0.2177871,\n",
              " 0.1342732,\n",
              " 0.31634694,\n",
              " 0.15407339,\n",
              " 0.15542088,\n",
              " 0.42408663,\n",
              " 0.18416281,\n",
              " 0.18667714,\n",
              " 0.40200004,\n",
              " 0.1707047,\n",
              " 0.11855,\n",
              " 0.21292885,\n",
              " 0.48695144,\n",
              " 0.4260268,\n",
              " 0.2745973,\n",
              " 0.4041855,\n",
              " 0.15056205,\n",
              " 0.19009207,\n",
              " 0.16847469,\n",
              " 0.1755491,\n",
              " 0.23611176,\n",
              " 0.2548143,\n",
              " 0.45011848,\n",
              " 0.10964835,\n",
              " 0.288304,\n",
              " 0.22402942,\n",
              " 0.53156745,\n",
              " 0.14887781,\n",
              " 0.23231047,\n",
              " 0.51008034,\n",
              " 0.17411102,\n",
              " 0.1729853,\n",
              " 0.09923656,\n",
              " 0.249564,\n",
              " 0.37159446,\n",
              " 0.15061663,\n",
              " 0.20794502,\n",
              " 0.20886241,\n",
              " 0.14947551,\n",
              " 0.4095347,\n",
              " 0.15581945,\n",
              " 0.10117883,\n",
              " 0.41253802,\n",
              " 0.1749085,\n",
              " 0.2284797,\n",
              " 0.5216482,\n",
              " 0.39183003,\n",
              " 0.35907307,\n",
              " 0.30266783,\n",
              " 0.33419618,\n",
              " 0.14656225,\n",
              " 0.31301466,\n",
              " 0.27043003,\n",
              " 0.34995684,\n",
              " 0.20400819,\n",
              " 0.5039803,\n",
              " 0.2531462,\n",
              " 0.41924143,\n",
              " 0.2798719,\n",
              " 0.46268603,\n",
              " 0.32621932,\n",
              " 0.12345815,\n",
              " 0.17572731,\n",
              " 0.37825036,\n",
              " 0.14381233,\n",
              " 0.5436027,\n",
              " 0.42264563,\n",
              " 0.15147917,\n",
              " 0.44871196,\n",
              " 0.1539291,\n",
              " 0.37983164,\n",
              " 0.4086736,\n",
              " 0.15710922,\n",
              " 0.19607976,\n",
              " 0.34505236,\n",
              " 0.3348131,\n",
              " 0.4961977,\n",
              " 0.31704947,\n",
              " 0.27099222,\n",
              " 0.16743593,\n",
              " 0.2932702,\n",
              " 0.09950247,\n",
              " 0.33757034,\n",
              " 0.5997536,\n",
              " 0.21194491,\n",
              " 0.40169683,\n",
              " 0.581274,\n",
              " 0.23650952,\n",
              " 0.61619484,\n",
              " 0.4959382,\n",
              " 0.19585697,\n",
              " 0.28700998,\n",
              " 0.303539,\n",
              " 0.18887053,\n",
              " 0.18345614,\n",
              " 0.235057,\n",
              " 0.24498454,\n",
              " 0.1706831,\n",
              " 0.33947918,\n",
              " 0.20546524,\n",
              " 0.22101934,\n",
              " 0.16270594,\n",
              " 0.11912273,\n",
              " 0.31089982,\n",
              " 0.14039962,\n",
              " 0.13275905,\n",
              " 0.14672324,\n",
              " 0.25778857,\n",
              " 0.09075494,\n",
              " 0.110821016,\n",
              " 0.13474508,\n",
              " 0.39787054,\n",
              " 0.47762918,\n",
              " 0.18201827,\n",
              " 0.52702636,\n",
              " 0.3702223,\n",
              " 0.57435244,\n",
              " 0.38794374,\n",
              " 0.27498114,\n",
              " 0.30226532,\n",
              " 0.4183577,\n",
              " 0.14856386,\n",
              " 0.54069877,\n",
              " 0.2230138,\n",
              " 0.21954732,\n",
              " 0.20283405,\n",
              " 0.45086846,\n",
              " 0.18269865,\n",
              " 0.14449938,\n",
              " 0.49204543,\n",
              " 0.20439722,\n",
              " 0.107157975,\n",
              " 0.3740608,\n",
              " 0.17703532,\n",
              " 0.39128682,\n",
              " 0.13339354,\n",
              " 0.4889523,\n",
              " 0.37139127,\n",
              " 0.5455147,\n",
              " 0.090366445,\n",
              " 0.13869937,\n",
              " 0.13603783,\n",
              " 0.30754942,\n",
              " 0.2301736,\n",
              " 0.22821973,\n",
              " 0.39685234,\n",
              " 0.39248177,\n",
              " 0.18215908,\n",
              " 0.11609684,\n",
              " 0.3823248,\n",
              " 0.2971687,\n",
              " 0.2395315,\n",
              " 0.34012258,\n",
              " 0.13978294,\n",
              " 0.42193687,\n",
              " 0.30142367,\n",
              " 0.44011775,\n",
              " 0.3276407,\n",
              " 0.19448565,\n",
              " 0.25192118,\n",
              " 0.29397002,\n",
              " 0.2120199,\n",
              " 0.19050469,\n",
              " 0.12267831,\n",
              " 0.14961672,\n",
              " 0.19356255,\n",
              " 0.324306,\n",
              " 0.30280155,\n",
              " 0.29477164,\n",
              " 0.3290742,\n",
              " 0.39290214,\n",
              " 0.26971266,\n",
              " 0.53532016,\n",
              " 0.46345153,\n",
              " 0.33828363,\n",
              " 0.1820483,\n",
              " 0.21727724,\n",
              " 0.32595047,\n",
              " 0.099152245,\n",
              " 0.26021004,\n",
              " 0.21411595,\n",
              " 0.36330423,\n",
              " 0.40906,\n",
              " 0.40733415,\n",
              " 0.17416464,\n",
              " 0.469461,\n",
              " 0.34110948,\n",
              " 0.18020928,\n",
              " 0.41802588,\n",
              " 0.34995976,\n",
              " 0.30276138,\n",
              " 0.24889445,\n",
              " 0.3346596,\n",
              " 0.18280837,\n",
              " 0.26559758,\n",
              " 0.6058022]"
            ]
          },
          "metadata": {},
          "execution_count": 13
        }
      ]
    },
    {
      "cell_type": "code",
      "source": [
        "test_ds['labels']"
      ],
      "metadata": {
        "id": "0yt2vP_mcoK3",
        "outputId": "8f8610b3-4e1a-4e66-fb2d-3c3695952816",
        "colab": {
          "base_uri": "https://localhost:8080/"
        }
      },
      "execution_count": 14,
      "outputs": [
        {
          "output_type": "execute_result",
          "data": {
            "text/plain": [
              "tensor([0.0000, 0.5000, 0.1667, 0.5000, 0.3333, 0.3333, 0.6667, 0.0000, 0.3333,\n",
              "        0.6667, 0.1667, 0.0000, 0.1667, 0.0000, 0.0000, 0.1667, 0.5000, 0.3333,\n",
              "        0.3333, 0.3333, 0.0000, 0.6667, 0.0000, 0.0000, 0.1667, 0.0000, 0.0000,\n",
              "        0.3333, 0.3333, 0.1667, 0.0000, 0.1667, 0.1667, 0.3333, 0.3333, 0.3333,\n",
              "        0.6667, 0.3333, 0.0000, 0.0000, 0.3333, 0.5000, 0.0000, 0.5000, 0.1667,\n",
              "        0.1667, 0.0000, 0.1667, 0.3333, 0.3333, 0.6667, 0.3333, 0.1667, 0.5000,\n",
              "        0.3333, 0.3333, 0.0000, 0.1667, 0.1667, 0.1667, 0.6667, 0.3333, 0.3333,\n",
              "        0.0000, 0.1667, 0.3333, 0.0000, 0.3333, 0.3333, 0.3333, 0.6667, 0.3333,\n",
              "        0.3333, 0.3333, 0.6667, 0.5000, 0.3333, 0.1667, 0.1667, 0.5000, 0.3333,\n",
              "        0.3333, 0.0000, 0.5000, 0.0000, 0.0000, 0.3333, 0.3333, 0.3333, 0.1667,\n",
              "        0.0000, 0.3333, 0.0000, 0.5000, 0.0000, 0.3333, 0.0000, 0.1667, 0.3333,\n",
              "        0.6667, 0.1667, 0.3333, 0.3333, 0.3333, 0.3333, 0.3333, 0.5000, 0.1667,\n",
              "        0.1667, 0.3333, 0.0000, 0.0000, 0.6667, 0.0000, 0.5000, 0.1667, 0.0000,\n",
              "        0.3333, 0.1667, 0.1667, 0.3333, 0.1667, 0.3333, 0.0000, 0.0000, 0.3333,\n",
              "        0.3333, 0.1667, 0.1667, 0.3333, 0.1667, 0.3333, 0.5000, 0.3333, 0.1667,\n",
              "        0.1667, 0.5000, 0.3333, 0.3333, 0.0000, 0.3333, 0.3333, 0.3333, 0.0000,\n",
              "        0.1667, 0.3333, 0.3333, 0.1667, 0.0000, 0.0000, 0.1667, 0.8333, 0.3333,\n",
              "        0.1667, 0.6667, 0.3333, 0.3333, 0.5000, 0.5000, 0.0000, 0.0000, 0.5000,\n",
              "        0.1667, 0.3333, 0.1667, 0.1667, 0.3333, 0.3333, 0.1667, 0.5000, 0.1667,\n",
              "        0.3333, 0.3333, 0.1667, 0.3333, 0.3333, 0.1667, 0.5000, 0.3333, 0.0000,\n",
              "        0.3333, 0.3333, 0.1667, 0.5000, 0.1667, 0.3333, 0.3333, 0.3333, 0.5000,\n",
              "        0.5000, 0.3333, 0.5000, 0.3333, 0.0000, 0.3333, 0.6667, 0.1667, 0.3333,\n",
              "        0.5000, 0.3333, 0.5000, 0.3333, 0.1667, 0.3333, 0.1667, 0.1667, 0.3333,\n",
              "        0.0000, 0.3333, 0.0000, 0.3333, 0.3333, 0.3333, 0.1667, 0.0000, 0.0000,\n",
              "        0.0000, 0.0000, 0.1667, 0.1667, 0.0000, 0.3333, 0.1667, 0.3333, 0.5000,\n",
              "        0.0000, 0.1667, 0.5000, 0.3333, 0.1667, 0.1667, 0.3333, 0.5000, 0.3333,\n",
              "        0.5000, 0.3333, 0.0000, 0.3333, 0.3333, 0.0000, 0.0000, 0.3333, 0.3333,\n",
              "        0.1667, 0.1667, 0.0000, 0.3333, 0.1667, 0.5000, 0.3333, 0.3333, 0.1667,\n",
              "        0.1667, 0.1667, 0.3333, 0.3333, 0.0000, 0.3333, 0.5000, 0.0000, 0.0000,\n",
              "        0.3333, 0.1667, 0.1667, 0.3333, 0.0000, 0.3333, 0.1667, 0.6667, 0.0000,\n",
              "        0.0000, 0.3333, 0.0000, 0.6667, 0.3333, 0.0000, 0.0000, 0.3333, 0.5000,\n",
              "        0.3333, 0.3333, 0.1667, 0.3333, 0.6667, 0.5000, 0.3333, 0.3333, 0.3333,\n",
              "        0.0000, 0.3333, 0.0000, 0.3333, 0.1667, 0.3333, 0.5000, 0.3333, 0.0000,\n",
              "        0.3333, 0.3333, 0.3333, 0.3333, 0.1667, 0.5000, 0.0000, 0.6667, 0.3333,\n",
              "        0.3333, 0.3333])"
            ]
          },
          "metadata": {},
          "execution_count": 14
        }
      ]
    },
    {
      "cell_type": "code",
      "source": [
        "import torch\n",
        "\n",
        "# Example predictions and labels (assume both are torch tensors)\n",
        "predictions = torch.tensor(predicted_scores)  # Example prediction values\n",
        "labels = torch.tensor(test_ds['labels'])      # Corresponding ground truth labels\n",
        "\n",
        "# Initialize the Mean Squared Error Loss function\n",
        "loss_fn = torch.nn.MSELoss()\n",
        "\n",
        "# Compute the loss between predictions and labels\n",
        "test_loss = loss_fn(predictions, labels)\n",
        "\n",
        "print(f\"Test Loss: {test_loss.item():.4f}\")"
      ],
      "metadata": {
        "id": "odDOcHtfdOcB",
        "outputId": "dfdc68aa-0137-4a17-ab6f-a68db5786bce",
        "colab": {
          "base_uri": "https://localhost:8080/"
        }
      },
      "execution_count": 15,
      "outputs": [
        {
          "output_type": "stream",
          "name": "stdout",
          "text": [
            "Test Loss: 0.0270\n"
          ]
        },
        {
          "output_type": "stream",
          "name": "stderr",
          "text": [
            "C:\\Users\\hai_l\\AppData\\Local\\Temp\\ipykernel_12628\\3201186786.py:5: UserWarning: To copy construct from a tensor, it is recommended to use sourceTensor.clone().detach() or sourceTensor.clone().detach().requires_grad_(True), rather than torch.tensor(sourceTensor).\n",
            "  labels = torch.tensor(test_ds['labels'])      # Corresponding ground truth labels\n"
          ]
        }
      ]
    },
    {
      "cell_type": "code",
      "source": [
        "import matplotlib.pyplot as plt\n",
        "\n",
        "\n",
        "# Set the figure size (width, height in inches)\n",
        "plt.figure(figsize=(20, 5))\n",
        "\n",
        "# Plot the first list\n",
        "plt.plot(predicted_scores, label='Prediction')\n",
        "\n",
        "# Plot the second list in red\n",
        "plt.plot(test_ds['labels'], color='green', label='Truth')\n",
        "\n",
        "# Add labels, title, and a legend\n",
        "plt.xlabel('Index')\n",
        "plt.ylabel('List Values')\n",
        "plt.title('Plot of List Values Against Index')\n",
        "plt.legend()\n",
        "\n",
        "# Show the plot\n",
        "plt.show()"
      ],
      "metadata": {
        "id": "2O4SFKi7ccia",
        "outputId": "c5586f10-6880-44ec-9e8c-cc32f82404a4",
        "colab": {
          "base_uri": "https://localhost:8080/",
          "height": 487
        }
      },
      "execution_count": 17,
      "outputs": [
        {
          "output_type": "display_data",
          "data": {
            "text/plain": [
              "<Figure size 2000x500 with 1 Axes>"
            ],
            "image/png": "[encoded data removed]"
          },
          "metadata": {}
        }
      ]
    },
    {
      "cell_type": "code",
      "source": [
        "test_ds"
      ],
      "metadata": {
        "colab": {
          "base_uri": "https://localhost:8080/"
        },
        "id": "UpcGI_3H-0jh",
        "outputId": "b8e93d99-e992-40c3-8d04-d92f00af0dce"
      },
      "execution_count": 21,
      "outputs": [
        {
          "output_type": "execute_result",
          "data": {
            "text/plain": [
              "Dataset({\n",
              "    features: ['text', 'labels', 'input_ids', 'token_type_ids', 'attention_mask'],\n",
              "    num_rows: 308\n",
              "})"
            ]
          },
          "metadata": {},
          "execution_count": 21
        }
      ]
    },
    {
      "cell_type": "code",
      "source": [
        "model.save_pretrained('fine_tuned_bert_empathy2')\n",
        "tokenizer.save_pretrained('fine_tuned_bert_empathy2')\n"
      ],
      "metadata": {
        "id": "3DkzIVGxGxv0",
        "outputId": "42222f53-be47-4c8e-8e5a-22bf3533e543",
        "colab": {
          "base_uri": "https://localhost:8080/"
        }
      },
      "execution_count": 22,
      "outputs": [
        {
          "output_type": "execute_result",
          "data": {
            "text/plain": [
              "('fine_tuned_bert_empathy2\\\\tokenizer_config.json',\n",
              " 'fine_tuned_bert_empathy2\\\\special_tokens_map.json',\n",
              " 'fine_tuned_bert_empathy2\\\\vocab.txt',\n",
              " 'fine_tuned_bert_empathy2\\\\added_tokens.json')"
            ]
          },
          "metadata": {},
          "execution_count": 22
        }
      ]
    }
  ]
}